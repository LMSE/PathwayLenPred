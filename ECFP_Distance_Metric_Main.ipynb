{
 "cells": [
  {
   "cell_type": "markdown",
   "id": "2244c463",
   "metadata": {},
   "source": [
    "# Extended Connectivity Fingerprint-based Chemical Structural Distance Metric\n",
    "\n",
    "This notebook provides a pipeline of a new Machine Learning-based similarity/distance metric that better characterize the reaction distance (defined by minimum reaction steps required to transform a group of precursors to a target compound). The performance of predicting the number of reaction steps that connects two groups of compounds are shown below. Here, only compounds/reactions from MetaNetX is considered so the predictions are NOT comparable to that of the model trained on synthetic data collected through expanding plausible reaction networks with \"transformation rules\", which is part of a different project."
   ]
  },
  {
   "cell_type": "markdown",
   "id": "6f6bbb2c",
   "metadata": {},
   "source": [
    "## Header and Import"
   ]
  },
  {
   "cell_type": "code",
   "execution_count": 1,
   "id": "afbc8f3d",
   "metadata": {},
   "outputs": [
    {
     "name": "stdout",
     "output_type": "stream",
     "text": [
      "Running on Windows\n",
      "Running outside Visual Studio\n",
      "workbookDir: C:\\Users\\ZhiqingXu_AMD\\Desktop\\PwyLenPred\\MNX-VAE_v3.10\n"
     ]
    }
   ],
   "source": [
    "#--------------------------------------------------#\n",
    "import os \n",
    "import sys\n",
    "import os.path\n",
    "from sys import platform\n",
    "from pathlib import Path\n",
    "#--------------------------------------------------#\n",
    "if os.name == 'nt' or platform == 'win32':\n",
    "    print(\"Running on Windows\")\n",
    "    if 'ptvsd' in sys.modules:\n",
    "        print(\"Running in Visual Studio\")\n",
    "        try:\n",
    "            os.chdir(os.path.dirname(__file__))\n",
    "            print('CurrentDir: ', os.getcwd())\n",
    "        except:\n",
    "            pass\n",
    "#--------------------------------------------------#\n",
    "    else:\n",
    "        print(\"Running outside Visual Studio\")\n",
    "        try:\n",
    "            if not 'workbookDir' in globals():\n",
    "                workbookDir = os.getcwd()\n",
    "                print('workbookDir: ' + workbookDir)\n",
    "                os.chdir(workbookDir)\n",
    "        except:\n",
    "            pass\n",
    "#--------------------------------------------------#\n",
    "from rdkit import Chem\n",
    "from rdkit.Chem import AllChem\n",
    "#--------------------------------------------------#\n",
    "import ast\n",
    "import copy\n",
    "import time\n",
    "import scipy\n",
    "import random\n",
    "import pickle\n",
    "import scipy.io\n",
    "import argparse\n",
    "import subprocess\n",
    "import numpy as np\n",
    "import pandas as pd\n",
    "from numpy import *\n",
    "from tqdm import tqdm\n",
    "from pathlib import Path\n",
    "from random import shuffle"
   ]
  },
  {
   "cell_type": "markdown",
   "id": "dccb2768",
   "metadata": {},
   "source": [
    "## Step01 Obtain SMILES and DB Entries from MetaNetX compound database"
   ]
  },
  {
   "cell_type": "code",
   "execution_count": 2,
   "id": "c7b75aae",
   "metadata": {},
   "outputs": [],
   "source": [
    "def readlines_chem_prop(file, mark=\"\", skip_header=False):\n",
    "    count_x=0\n",
    "    cmpd_mnxid_smiles_dict=dict([])\n",
    "    # skip lines not containing information\n",
    "    # There are 388 lines of header (trivial information about the DB)\n",
    "    if skip_header==True:\n",
    "        for i in range(388): \n",
    "            line = file.readline()\n",
    "\n",
    "    # Process 10^6 at a time in case there are problematic lines in the data file.\n",
    "    # It is easy to combine the dictionaries afterwards.\n",
    "    for i in tqdm(range(100000)): \n",
    "        count_x+=1\n",
    "        line = file.readline()\n",
    "        if line != \"\" and line != \"\\n\" :\n",
    "            cmpd_info_list=line.split(\"\\t\")\n",
    "            #print (cmpd_info_list[0], count_x+1)\n",
    "            cmpd_mnxid_smiles_dict[cmpd_info_list[0]]=cmpd_info_list[6]\n",
    "        else:\n",
    "            return cmpd_mnxid_smiles_dict\n",
    "    return cmpd_mnxid_smiles_dict"
   ]
  },
  {
   "cell_type": "code",
   "execution_count": 3,
   "id": "fd7c4e5b",
   "metadata": {},
   "outputs": [],
   "source": [
    "def Step01_main_1(loading_folder, saving_folder):\n",
    "    # Process 10^6 at a time in case there are problematic lines in the data file.\n",
    "    # Write the compound info into 7 dictionaries, each info of with up to 10^6 compounds\n",
    "    # It is easy to combine the dictionaries with a few lines of code.\n",
    "    file_MNX_cmpd_address = loading_folder / \"chem_prop.tsv\"\n",
    "    file_MNX_cmpd=open(file_MNX_cmpd_address)\n",
    "    cmpd_mnxid_smiles_dict1=readlines_chem_prop(file_MNX_cmpd,\"\",True)\n",
    "    cmpd_mnxid_smiles_dict2=readlines_chem_prop(file_MNX_cmpd,\"\",False)\n",
    "    cmpd_mnxid_smiles_dict3=readlines_chem_prop(file_MNX_cmpd,\"\",False)\n",
    "    cmpd_mnxid_smiles_dict4=readlines_chem_prop(file_MNX_cmpd,\"\",False)\n",
    "    cmpd_mnxid_smiles_dict5=readlines_chem_prop(file_MNX_cmpd,\"\",False)\n",
    "    cmpd_mnxid_smiles_dict6=readlines_chem_prop(file_MNX_cmpd,\"\",False)\n",
    "    cmpd_mnxid_smiles_dict7=readlines_chem_prop(file_MNX_cmpd,\"\",False)\n",
    "\n",
    "    pickle_out1=open(saving_folder / \"Step01_cmpd_mnxid_smiles_dict1\",\"wb\")\n",
    "    pickle.dump(cmpd_mnxid_smiles_dict1, pickle_out1)\n",
    "    pickle_out1.close()\n",
    "    pickle_out1=open(saving_folder / \"Step01_cmpd_mnxid_smiles_dict2\",\"wb\")\n",
    "    pickle.dump(cmpd_mnxid_smiles_dict2, pickle_out1)\n",
    "    pickle_out1.close()\n",
    "    pickle_out1=open(saving_folder / \"Step01_cmpd_mnxid_smiles_dict3\",\"wb\")\n",
    "    pickle.dump(cmpd_mnxid_smiles_dict3, pickle_out1)\n",
    "    pickle_out1.close()\n",
    "    pickle_out1=open(saving_folder / \"Step01_cmpd_mnxid_smiles_dict4\",\"wb\")\n",
    "    pickle.dump(cmpd_mnxid_smiles_dict4, pickle_out1)\n",
    "    pickle_out1.close()\n",
    "    pickle_out1=open(saving_folder / \"Step01_cmpd_mnxid_smiles_dict5\",\"wb\")\n",
    "    pickle.dump(cmpd_mnxid_smiles_dict5, pickle_out1)\n",
    "    pickle_out1.close()\n",
    "    pickle_out1=open(saving_folder / \"Step01_cmpd_mnxid_smiles_dict6\",\"wb\")\n",
    "    pickle.dump(cmpd_mnxid_smiles_dict6, pickle_out1)\n",
    "    pickle_out1.close()\n",
    "    pickle_out1=open(saving_folder / \"Step01_cmpd_mnxid_smiles_dict7\",\"wb\")\n",
    "    pickle.dump(cmpd_mnxid_smiles_dict7, pickle_out1)\n",
    "    pickle_out1.close()\n",
    "    \n",
    "    return"
   ]
  },
  {
   "cell_type": "code",
   "execution_count": 4,
   "id": "cf178842",
   "metadata": {},
   "outputs": [],
   "source": [
    "def Step01_main_2(loading_folder, saving_folder):\n",
    "    # Open all pickles and retrieve compound/reaction info.\n",
    "    pickle_in1=open(saving_folder / \"Step01_cmpd_mnxid_smiles_dict1\",\"rb\")\n",
    "    cmpd_mnxid_smiles_dict1=pickle.load(pickle_in1)\n",
    "    pickle_in1.close()\n",
    "    pickle_in1=open(saving_folder / \"Step01_cmpd_mnxid_smiles_dict2\",\"rb\")\n",
    "    cmpd_mnxid_smiles_dict2=pickle.load(pickle_in1)\n",
    "    pickle_in1.close()\n",
    "    pickle_in1=open(saving_folder / \"Step01_cmpd_mnxid_smiles_dict3\",\"rb\")\n",
    "    cmpd_mnxid_smiles_dict3=pickle.load(pickle_in1)\n",
    "    pickle_in1.close()\n",
    "    pickle_in1=open(saving_folder / \"Step01_cmpd_mnxid_smiles_dict4\",\"rb\")\n",
    "    cmpd_mnxid_smiles_dict4=pickle.load(pickle_in1)\n",
    "    pickle_in1.close()\n",
    "    pickle_in1=open(saving_folder / \"Step01_cmpd_mnxid_smiles_dict5\",\"rb\")\n",
    "    cmpd_mnxid_smiles_dict5=pickle.load(pickle_in1)\n",
    "    pickle_in1.close()\n",
    "    pickle_in1=open(saving_folder / \"Step01_cmpd_mnxid_smiles_dict6\",\"rb\")\n",
    "    cmpd_mnxid_smiles_dict6=pickle.load(pickle_in1)\n",
    "    pickle_in1.close()\n",
    "    pickle_in1=open(saving_folder / \"Step01_cmpd_mnxid_smiles_dict7\",\"rb\")\n",
    "    cmpd_mnxid_smiles_dict7=pickle.load(pickle_in1)\n",
    "    pickle_in1.close()\n",
    "\n",
    "    cmpd_mnxid_smiles_dict=cmpd_mnxid_smiles_dict1.copy()\n",
    "    cmpd_mnxid_smiles_dict.update(cmpd_mnxid_smiles_dict2)\n",
    "    cmpd_mnxid_smiles_dict.update(cmpd_mnxid_smiles_dict3)\n",
    "    cmpd_mnxid_smiles_dict.update(cmpd_mnxid_smiles_dict4)\n",
    "    cmpd_mnxid_smiles_dict.update(cmpd_mnxid_smiles_dict5)\n",
    "    cmpd_mnxid_smiles_dict.update(cmpd_mnxid_smiles_dict6)\n",
    "    cmpd_mnxid_smiles_dict.update(cmpd_mnxid_smiles_dict7)\n",
    "\n",
    "    # Add some keys to the dict to avoid errors\n",
    "    cmpd_mnxid_smiles_dict[\"BIOMASS\"]=\"\"\n",
    "    cmpd_mnxid_smiles_dict[\"MNXM0\"]=\"\"\n",
    "    print (\"done merge\")\n",
    "\n",
    "    pickle_out1 = open(saving_folder / \"Step01_cmpd_mnxid_smiles_dict_merged\",\"wb\")\n",
    "    pickle.dump(cmpd_mnxid_smiles_dict, pickle_out1)\n",
    "    pickle_out1.close()\n",
    "    print(\"Step01 Done!\")\n",
    "    \n",
    "    return "
   ]
  },
  {
   "cell_type": "code",
   "execution_count": 5,
   "id": "1b316a92",
   "metadata": {},
   "outputs": [
    {
     "name": "stderr",
     "output_type": "stream",
     "text": [
      "100%|██████████████████████████████████████████████████████████████████████| 100000/100000 [00:00<00:00, 341219.76it/s]\n",
      "100%|██████████████████████████████████████████████████████████████████████| 100000/100000 [00:00<00:00, 259008.86it/s]\n",
      "100%|██████████████████████████████████████████████████████████████████████| 100000/100000 [00:00<00:00, 204452.39it/s]\n",
      "100%|██████████████████████████████████████████████████████████████████████| 100000/100000 [00:00<00:00, 249943.03it/s]\n",
      "100%|██████████████████████████████████████████████████████████████████████| 100000/100000 [00:00<00:00, 332151.06it/s]\n",
      "100%|██████████████████████████████████████████████████████████████████████| 100000/100000 [00:00<00:00, 613357.47it/s]\n",
      " 94%|██████████████████████████████████████████████████████████████████▉    | 94309/100000 [00:00<00:00, 678327.57it/s]\n"
     ]
    },
    {
     "name": "stdout",
     "output_type": "stream",
     "text": [
      "done merge\n",
      "Step01 Done!\n"
     ]
    }
   ],
   "source": [
    "loading_folder = Path(\"MNX_data/\")\n",
    "saving_folder = Path(\"MNX_ECFP_savings/\")\n",
    "Step01_main_1(loading_folder, saving_folder)\n",
    "Step01_main_2(loading_folder, saving_folder)"
   ]
  },
  {
   "cell_type": "markdown",
   "id": "2939e96c",
   "metadata": {},
   "source": [
    "## Step02 Obtain Reactions and DB Entries from MetaNetX Reaction Database"
   ]
  },
  {
   "cell_type": "code",
   "execution_count": 6,
   "id": "4cf4099a",
   "metadata": {},
   "outputs": [],
   "source": [
    "def retrieve_cmpd_id(extended_mnx_id):\n",
    "# Remove the useless part of the compounds id strings\n",
    "# Example: MNXM89588@MNXD1 -> MNXM89588\n",
    "    if extended_mnx_id.find(\"@\")==-1:\n",
    "        print (\"Unexpected Case\", extended_mnx_id) \n",
    "        return extended_mnx_id\n",
    "    return extended_mnx_id.split(\"@\")[0]\n",
    "#====================================================================================================#\n",
    "def rxn_str_to_cmpds(one_str):\n",
    "# Define this function to retrieve reactants/products as well as \n",
    "# stoichiometric coefficients from a reaction string.\n",
    "    coef_list=[]\n",
    "    cmpds_list=[]\n",
    "    if one_str.find(\" + \") == -1:\n",
    "        coef_list=[one_str.split(\" \")[0]]\n",
    "        cmpds_list=[retrieve_cmpd_id(one_str.split(\" \")[1])]\n",
    "    else:\n",
    "        split_temp_list=one_str.split(\" + \")\n",
    "        for one_cmpd in split_temp_list:\n",
    "            coef_list.append(one_cmpd.split(\" \")[0])\n",
    "            cmpds_list.append(retrieve_cmpd_id(one_cmpd.split(\" \")[1]))\n",
    "    return [coef_list,cmpds_list]\n",
    "#====================================================================================================#\n",
    "def readlines_reac_prop(file, mark=\"\"):\n",
    "    count_x=0\n",
    "    mnxid_rxn_list=[]\n",
    "    # skip lines not containing information\n",
    "    # There are 388 lines of header (trivial information about the DB)\n",
    "\n",
    "    for i in range(386): \n",
    "        line = file.readline()\n",
    "\n",
    "    for i in tqdm(range(50000)): \n",
    "        count_x+=1\n",
    "        #print (count_x) \n",
    "        line = file.readline()\n",
    "\n",
    "        if line != \"\" and line != \"\\n\" :\n",
    "            one_rxn_info_list=line.split(\"\\t\")\n",
    "            rxn_id=one_rxn_info_list[0]\n",
    "            rctt_str=one_rxn_info_list[1].split(\" = \")[0]\n",
    "            prod_str=one_rxn_info_list[1].split(\" = \")[1]\n",
    "            #print (rxn_str_to_cmpds(rctt_str)+rxn_str_to_cmpds(prod_str))\n",
    "            mnxid_rxn_list.append(rxn_str_to_cmpds(rctt_str)+rxn_str_to_cmpds(prod_str))\n",
    "\n",
    "        else:\n",
    "            return mnxid_rxn_list\n",
    "    return mnxid_rxn_list"
   ]
  },
  {
   "cell_type": "code",
   "execution_count": 7,
   "id": "d90dd426",
   "metadata": {},
   "outputs": [],
   "source": [
    "def Step02_main(loading_folder, saving_folder):\n",
    "    # From MetaNetX Database (reac_prop.tsv), \n",
    "    # obtain reaction information (stoichiometric coefficient and MNXid) \n",
    "    # for ~40000 reactions and store the data into a python list.\n",
    "    file_MNX_rxn_address = loading_folder/ \"reac_prop.tsv\"\n",
    "    file_MNX_rxn=open(file_MNX_rxn_address)\n",
    "    mnxid_rxn_list=readlines_reac_prop(file_MNX_rxn,\"\")\n",
    "\n",
    "    pickle_out1 = open(saving_folder / \"Step02_mnxid_rxn_list\",\"wb\")\n",
    "    pickle.dump(mnxid_rxn_list, pickle_out1)\n",
    "    pickle_out1.close()\n",
    "    \n",
    "    print(\"Step02 Done!\")\n",
    "    \n",
    "    return"
   ]
  },
  {
   "cell_type": "code",
   "execution_count": 8,
   "id": "e2e512af",
   "metadata": {},
   "outputs": [
    {
     "name": "stderr",
     "output_type": "stream",
     "text": [
      " 89%|████████████████████████████████████████████████████████████████▋        | 44320/50000 [00:00<00:00, 97384.46it/s]\n"
     ]
    },
    {
     "name": "stdout",
     "output_type": "stream",
     "text": [
      "Step02 Done!\n"
     ]
    }
   ],
   "source": [
    "loading_folder = Path(\"MNX_data/\")\n",
    "saving_folder = Path(\"MNX_ECFP_savings/\")\n",
    "Step02_main(loading_folder, saving_folder)"
   ]
  },
  {
   "cell_type": "markdown",
   "id": "292294c4",
   "metadata": {},
   "source": [
    "## Step03 Cleaning Reaction Data"
   ]
  },
  {
   "cell_type": "code",
   "execution_count": 9,
   "id": "98f1804d",
   "metadata": {},
   "outputs": [
    {
     "name": "stdout",
     "output_type": "stream",
     "text": [
      "running on windows\n",
      "running outside visual studio\n",
      "workbookdir: C:\\Users\\ZhiqingXu_AMD\\Desktop\\PwyLenPred\\MNX-VAE_v3.10\n"
     ]
    }
   ],
   "source": [
    "# Step03 Imports\n",
    "#--------------------------------------------------#\n",
    "from rdkit import Chem\n",
    "from rdkit import DataStructs\n",
    "from rdkit.Chem import AllChem\n",
    "from rdkit.Chem import MACCSkeys\n",
    "from rdkit.Chem.AtomPairs import Pairs\n",
    "from rdkit.Chem.AtomPairs import Torsions\n",
    "from rdkit.Chem.Fingerprints import FingerprintMols\n",
    "#--------------------------------------------------#\n",
    "import statistics\n",
    "#--------------------------------------------------#\n",
    "from AP_RDKIT_FP import similarity_score\n",
    "from AP_RDKIT_FP import generate_fingerprint\n",
    "from AP_RDKIT_FP import similarity_metric_select\n",
    "#--------------------------------------------------#"
   ]
  },
  {
   "cell_type": "code",
   "execution_count": 10,
   "id": "bba6a5f4",
   "metadata": {},
   "outputs": [],
   "source": [
    "def remove_cofactors(one_rxn_info):\n",
    "    # More cofactor id might be updated later\n",
    "    cofactor_mnx_id=[\"MNXM01\",\"MNXM1\",\"MNXM2\",\"MNXM3\",\"MNXM4\",\"MNXM5\",\"MNXM6\",\"MNXM7\",\"MNXM8\",\\\n",
    "                    \"MNXM9\",\"MNXM10\",\"MNXM11\",\"MNXM12\",\"MNXM13\",\"MNXM14\",\"MNXM15\",\"MNXM15\"]\n",
    "    for one_cofactor in cofactor_mnx_id:\n",
    "        if one_cofactor in one_rxn_info[1]:\n",
    "            one_rxn_info[0].remove(one_rxn_info[0][one_rxn_info[1].index(one_cofactor)])\n",
    "            one_rxn_info[1].remove(one_cofactor)\n",
    "        if one_cofactor in one_rxn_info[3]:\n",
    "            one_rxn_info[2].remove(one_rxn_info[2][one_rxn_info[3].index(one_cofactor)])\n",
    "            one_rxn_info[3].remove(one_cofactor)     \n",
    "    return one_rxn_info\n",
    "#====================================================================================================#\n",
    "def remove_trivial_cmpds(one_rxn_info,cmpd_mnxid_smiles_dict):\n",
    "    # Remove metal ions, small compounds, NA SMILES strings and empty strings from the list\n",
    "    # The algorithm here is not perfected, probably need to take into account more conditions\n",
    "    #print one_rxn_info\n",
    "    rxn_info=[[],[],[],[]]\n",
    "    for i in range(len(one_rxn_info[1])):\n",
    "        one_cmpd=one_rxn_info[1][i]\n",
    "        cmpd_smiles=cmpd_mnxid_smiles_dict[one_cmpd]\n",
    "        if len(cmpd_smiles)>7 and cmpd_smiles.find(\".\")==-1:\n",
    "            rxn_info[0].append(one_rxn_info[0][i])\n",
    "            rxn_info[1].append(one_rxn_info[1][i])        \n",
    "\n",
    "    for i in range(len(one_rxn_info[3])):\n",
    "        one_cmpd=one_rxn_info[3][i]\n",
    "        cmpd_smiles=cmpd_mnxid_smiles_dict[one_cmpd]\n",
    "        if len(cmpd_smiles)>7 and cmpd_smiles.find(\".\")==-1:\n",
    "            rxn_info[2].append(one_rxn_info[2][i])\n",
    "            rxn_info[3].append(one_rxn_info[3][i])        \n",
    "    #print rxn_info\n",
    "    return rxn_info"
   ]
  },
  {
   "cell_type": "code",
   "execution_count": 11,
   "id": "6ad2ce27",
   "metadata": {},
   "outputs": [],
   "source": [
    "def Step03_main(loading_folder, saving_folder):\n",
    "    #====================================================================================================#\n",
    "    #1. Inputs\n",
    "    pickle_in1=open(saving_folder / \"Step01_cmpd_mnxid_smiles_dict_merged\",\"rb\")\n",
    "    cmpd_mnxid_smiles_dict=pickle.load(pickle_in1)\n",
    "    pickle_in1.close()\n",
    "\n",
    "    pickle_in1=open(saving_folder / \"Step02_mnxid_rxn_list\",\"rb\")\n",
    "    mnxid_rxn_list=pickle.load(pickle_in1)\n",
    "    pickle_in1.close()\n",
    "    #====================================================================================================#\n",
    "    #2. 1st Screening\n",
    "    screened_mnxid_rxn_list_1=[]\n",
    "    for one_rxn_info in mnxid_rxn_list:\n",
    "        one_rxn_info=remove_cofactors(one_rxn_info)\n",
    "        one_rxn_info=remove_trivial_cmpds(one_rxn_info,cmpd_mnxid_smiles_dict)\n",
    "\n",
    "        if len(one_rxn_info[0])!=0 and len(one_rxn_info[2])!=0 \\\n",
    "            and len(one_rxn_info[0]) == len(one_rxn_info[1]) \\\n",
    "            and len(one_rxn_info[2]) == len(one_rxn_info[3]):\n",
    "            screened_mnxid_rxn_list_1.append(one_rxn_info)\n",
    "    print (\"Done 1st Screening\")\n",
    "    del(mnxid_rxn_list)\n",
    "    mnxid_rxn_list=copy(screened_mnxid_rxn_list_1)\n",
    "    #====================================================================================================#\n",
    "    #3. 2nd Screening, get reactions in the form (A -> B) \n",
    "    # since we only reconstructs linear pathways here.\n",
    "    screened_mnxid_rxn_list_2=[]\n",
    "\n",
    "    parameter_1=\"ECFP\"\n",
    "    for one_rxn_info in mnxid_rxn_list:\n",
    "        #print one_rxn_info\n",
    "        if len(one_rxn_info[1])==1 and len(one_rxn_info[3])==1 \\\n",
    "            and one_rxn_info[1][0]!=one_rxn_info[3][0] \\\n",
    "            and set([one_rxn_info[1][0],one_rxn_info[3][0]]) not in screened_mnxid_rxn_list_2: # Consider simple reactions here (A->B)\n",
    "            screened_mnxid_rxn_list_2.append(set([one_rxn_info[1][0],one_rxn_info[3][0]]))\n",
    "\n",
    "\n",
    "    print (\"Done 2nd Screening\")\n",
    "    print (\"Size of screened MNX reaction list: \", len(screened_mnxid_rxn_list_2))\n",
    "    #-------------------- (4) --------------------#\n",
    "    # Get all SMILES needed for further analysis\n",
    "    # No need to convert all SMILES (through VAE) to latent vectors\n",
    "    Used_MNXid_set=set([])\n",
    "    for i in screened_mnxid_rxn_list_2:\n",
    "        Used_MNXid_set=Used_MNXid_set.union(i)\n",
    "    #print (Used_MNXid_set)\n",
    "\n",
    "    Used_SMILES_set=set([])\n",
    "    for one_mnxid in Used_MNXid_set:\n",
    "        Used_SMILES_set.add(cmpd_mnxid_smiles_dict[one_mnxid])\n",
    "    #print (Used_SMILES_set)\n",
    "\n",
    "    pickle_out1=open(saving_folder / \"Step03_screened_mnxid_rxn_list\",\"wb\")\n",
    "    pickle.dump(screened_mnxid_rxn_list_2, pickle_out1)\n",
    "    pickle_out1.close()\n",
    "\n",
    "    pickle_out1=open(saving_folder / \"Step03_Used_MNXid_set\",\"wb\")\n",
    "    pickle.dump(Used_MNXid_set, pickle_out1)\n",
    "    pickle_out1.close()\n",
    "\n",
    "    pickle_out1=open(saving_folder / \"Step03_Used_SMILES_set\",\"wb\")\n",
    "    pickle.dump(Used_SMILES_set, pickle_out1)\n",
    "    pickle_out1.close()\n",
    "    \n",
    "    print (\"Step03 Done!\")\n",
    "    \n",
    "    return"
   ]
  },
  {
   "cell_type": "code",
   "execution_count": 12,
   "id": "91f67a51",
   "metadata": {},
   "outputs": [
    {
     "name": "stdout",
     "output_type": "stream",
     "text": [
      "Done 1st Screening\n"
     ]
    },
    {
     "name": "stderr",
     "output_type": "stream",
     "text": [
      "C:\\Anaconda3\\envs\\rdkit3\\lib\\site-packages\\numpy\\lib\\function_base.py:804: VisibleDeprecationWarning: Creating an ndarray from ragged nested sequences (which is a list-or-tuple of lists-or-tuples-or ndarrays with different lengths or shapes) is deprecated. If you meant to do this, you must specify 'dtype=object' when creating the ndarray.\n",
      "  return array(a, order=order, subok=subok, copy=True)\n"
     ]
    },
    {
     "name": "stdout",
     "output_type": "stream",
     "text": [
      "Done 2nd Screening\n",
      "Size of screened MNX reaction list:  11057\n",
      "Step03 Done!\n"
     ]
    }
   ],
   "source": [
    "loading_folder = Path(\"MNX_data/\")\n",
    "saving_folder = Path(\"MNX_ECFP_savings/\")\n",
    "Step03_main(loading_folder, saving_folder)"
   ]
  },
  {
   "cell_type": "markdown",
   "id": "62c56f96",
   "metadata": {},
   "source": [
    "## Step04 Use a Pre-trained (Variational Auto-Encoder) VAE to Obtain VAE-encodings\n",
    "\n",
    "This Step is not shown here (due to different python env and other excuses). See code in the folder `Step04_VAEConversion`.\n",
    "Step04 use pretrained VAhttps://github.com/chembl/autoencoder_ipython"
   ]
  },
  {
   "cell_type": "code",
   "execution_count": 13,
   "id": "79ba881c",
   "metadata": {},
   "outputs": [
    {
     "name": "stdout",
     "output_type": "stream",
     "text": [
      "len(smiles_VAEVEC_dict):  8689\n",
      "sample VAE-encodings:  O[C@@H]1CC\\C(=C\\C(=O)C([O-])=O)[C@H]2O[C@@H]12\n",
      "dimension of VAE-encodings:  292\n"
     ]
    }
   ],
   "source": [
    "# Check outputs of Step04_VAEConversion.py\n",
    "#--------------------------------------------------#\n",
    "saving_folder = Path(\"MNX_ECFP_savings/\")\n",
    "#--------------------------------------------------#\n",
    "pickle_in1 = open(saving_folder / \"Step04_smiles_VAEVEC_dict\",\"rb\")\n",
    "smiles_VAEVEC_dict = pickle.load(pickle_in1)\n",
    "pickle_in1.close()\n",
    "#--------------------------------------------------#\n",
    "# print size of dict\n",
    "print(\"len(smiles_VAEVEC_dict): \", len(smiles_VAEVEC_dict))\n",
    "#--------------------------------------------------#\n",
    "# print sample VAE-encodings\n",
    "print(\"sample VAE-encodings: \", list(smiles_VAEVEC_dict.keys())[1])\n",
    "print(\"dimension of VAE-encodings: \", len(list(smiles_VAEVEC_dict.values())[1]))\n",
    "#print(list(smiles_VAEVEC_dict.values())[0])\n"
   ]
  },
  {
   "cell_type": "markdown",
   "id": "236c7b13",
   "metadata": {},
   "source": [
    "## Step05 Visualize the Screened Reaction/Pathway Network\n",
    "Write a json file for Step05_index.html, which shows the reaction network where pathways will be extracted from in the next step. \n",
    "\n",
    "Use `chrome --allow-file-access-from-files` to view the html file. "
   ]
  },
  {
   "cell_type": "code",
   "execution_count": 14,
   "id": "b760f1cf",
   "metadata": {},
   "outputs": [],
   "source": [
    "def Step05_main(loading_folder, saving_folder):\n",
    "    #====================================================================================================#\n",
    "    # 1. Open all pickles required.\n",
    "    pickle_in1=open(saving_folder / \"Step03_screened_mnxid_rxn_list\",\"rb\")\n",
    "    screened_mnxid_rxn_list=pickle.load(pickle_in1)\n",
    "    pickle_in1.close()\n",
    "\n",
    "    pickle_in1=open(saving_folder / \"Step03_Used_SMILES_set\",\"rb\")\n",
    "    Used_SMILES_set=pickle.load(pickle_in1)\n",
    "    pickle_in1.close()\n",
    "    \n",
    "    #====================================================================================================#\n",
    "    # 2. Format the data into two sets, nodes_set and edges_set\n",
    "    count_x=0\n",
    "    nodes_set=set([])\n",
    "    edges_list=[]\n",
    "    for i in screened_mnxid_rxn_list:\n",
    "        count_x+=1\n",
    "        # The plot cannot include all 10000 reactions (plot 1/10 to make it not too messy)\n",
    "        if count_x>2000:\n",
    "            break\n",
    "        nodes_set=nodes_set.union(i)\n",
    "        edges_list.append([set([list(i)[0]]),set([list(i)[1]])])\n",
    "\n",
    "    nodes_list=list(nodes_set)\n",
    "\n",
    "    #====================================================================================================#\n",
    "    # 3. Write a json file based on the formated data for making the graph in D3.js\n",
    "    text_file = open(saving_folder / \"Step05_graph.json\", \"w\")\n",
    "    text_file.write(\"{\")\n",
    "    text_file.write(\"\\n\")\n",
    "    text_file.write(\"  \\\"nodes\\\": [\")\n",
    "    text_file.write(\"\\n\")\n",
    "\n",
    "    for i in nodes_list:\n",
    "        if nodes_list.index(i) == len(nodes_list)-1:\n",
    "            text_file.write(\"    {\\\"id\\\": \\\"\"+i+\"\\\", \\\"group\\\": \"+ \"0\" +\"}\" )\n",
    "        else:\n",
    "            text_file.write(\"    {\\\"id\\\": \\\"\"+i+\"\\\", \\\"group\\\": \"+ \"0\" +\"},\" )\n",
    "        text_file.write(\"\\n\")\n",
    "    text_file.write(\"  ],\")\n",
    "    text_file.write(\"\\n\")\n",
    "    text_file.write(\"  \\\"links\\\": [\")\n",
    "    text_file.write(\"\\n\")\n",
    "\n",
    "    for i in edges_list:\n",
    "        str1=\"\\\"source\\\": [ \\\"\"\n",
    "        for j in i[1]: # source\n",
    "            str1=str1+j+\"\\\", \\\"\"\n",
    "        str1=str1[0:-3]+\" ]\"\n",
    "\n",
    "        str2=\"\\\"target\\\": [ \\\"\"\n",
    "        for j in i[0]: # target\n",
    "            str2=str2+j+\"\\\", \\\"\"\n",
    "        str2=str2[0:-3]+\" ]\"\n",
    "\n",
    "        str3=\"\\\"value\\\": 0\"\n",
    "        if edges_list.index(i)==len(edges_list)-1:\n",
    "            text_file.write(\"    {\" + str1 + \",\" + str2 + \",\" + str3 + \"}\")\n",
    "        else:\n",
    "            text_file.write(\"    {\" + str1 + \",\" + str2 + \",\" + str3 + \"},\")\n",
    "        text_file.write(\"\\n\")\n",
    "\n",
    "    text_file.write(\"  ]\")\n",
    "    text_file.write(\"\\n\")\n",
    "    text_file.write(\"}\")\n",
    "    text_file.write(\"\\n\")\n",
    "\n",
    "    print (\"Step05 Done!\")"
   ]
  },
  {
   "cell_type": "code",
   "execution_count": 15,
   "id": "c70ed4b7",
   "metadata": {},
   "outputs": [
    {
     "name": "stdout",
     "output_type": "stream",
     "text": [
      "Step05 Done!\n"
     ]
    }
   ],
   "source": [
    "loading_folder = Path(\"MNX_data/\")\n",
    "saving_folder = Path(\"MNX_ECFP_savings/\")\n",
    "Step05_main(loading_folder, saving_folder)\n",
    "\n",
    "from IPython.display import IFrame\n",
    "saving_folder_dir = \"MNX_ECFP_savings\"\n",
    "#IFrame(src = saving_folder_dir + \"/Step05_index.html\", width=700, height=600)"
   ]
  },
  {
   "cell_type": "markdown",
   "id": "4ab82689",
   "metadata": {},
   "source": [
    "## Step 06 Reaction Network Construction\n",
    "\n",
    "Although already visualized, reaction network needs to be constructed in the program to get ready for extracting pathways from reaction network"
   ]
  },
  {
   "cell_type": "code",
   "execution_count": 16,
   "id": "125e1e3e",
   "metadata": {},
   "outputs": [],
   "source": [
    "def expand_rxn_tree(one_MNXid, RXN_Network_N_step_dict, RXN_dict, max_len=10 ):\n",
    "    # A brute-force algorithm is used here (INEFFICIENT). \n",
    "    # Computation does not take long for this easy problem\n",
    "    # Efficient graph search algorithm can be used here if constructing a large network\n",
    "\n",
    "    #print(one_MNXid)\n",
    "    RXN_tree_N_step=[[] for i in range(max_len)]\n",
    "    for i in range(max_len):\n",
    "        if i==0:\n",
    "            RXN_tree_N_step[i]=list(set(RXN_dict[one_MNXid]))\n",
    "        else:\n",
    "            cmpds_tb_expanded=RXN_tree_N_step[i-1]\n",
    "            next_lv_cmpds=[]\n",
    "            duplicates=set([one_MNXid,])\n",
    "            for j in range(i):\n",
    "                k=i-j-1\n",
    "                duplicates=duplicates.union(set(RXN_tree_N_step[k]))\n",
    "            for one_cmpd in cmpds_tb_expanded:\n",
    "                next_lv_cmpds=[item for item in set(RXN_dict[one_cmpd]) if item not in duplicates]\n",
    "            RXN_tree_N_step[i]=next_lv_cmpds\n",
    "    #print(RXN_tree_N_step)\n",
    "    RXN_Network_N_step_dict[one_MNXid]=RXN_tree_N_step\n",
    "    return\n"
   ]
  },
  {
   "cell_type": "code",
   "execution_count": 17,
   "id": "e0c69e4a",
   "metadata": {},
   "outputs": [],
   "source": [
    "def Step06_main(loading_folder, saving_folder):\n",
    "    #====================================================================================================#\n",
    "    # 1. Open all pickles and retrieve compound/reaction info.\n",
    "    pickle_in1=open(saving_folder / \"Step03_screened_mnxid_rxn_list\",\"rb\")\n",
    "    screened_mnxid_rxn_list=pickle.load(pickle_in1)\n",
    "    pickle_in1.close()\n",
    "    pickle_in1=open(saving_folder / \"Step03_Used_MNXid_set\",\"rb\")\n",
    "    Used_MNXid_set=pickle.load(pickle_in1)\n",
    "    pickle_in1.close()\n",
    "\n",
    "    #====================================================================================================#\n",
    "    # 2. Format the reactions into a dictionary, \n",
    "    # Values are a list of MNXid's that are linked to the key with one step reaction\n",
    "    RXN_dict=dict([])\n",
    "    for one_MNXid in Used_MNXid_set:\n",
    "        prod_list=[]\n",
    "        for one_pair in screened_mnxid_rxn_list:\n",
    "            if one_MNXid in one_pair:\n",
    "                temp_pair=list(one_pair)\n",
    "                temp_pair.remove(one_MNXid)\n",
    "                prod_list.append(temp_pair[0])\n",
    "        RXN_dict[one_MNXid]=prod_list\n",
    "\n",
    "    #====================================================================================================#\n",
    "    RXN_Network_N_step_dict=dict([])\n",
    "    print(\"len(Used_MNXid_set): \", len(Used_MNXid_set))\n",
    "    for one_MNXid in tqdm(Used_MNXid_set):\n",
    "        expand_rxn_tree(one_MNXid, RXN_Network_N_step_dict, RXN_dict)\n",
    "\n",
    "    pickle_out1=open(saving_folder / \"Step06_RXN_Network_N_step_dict\",\"wb\")\n",
    "    pickle.dump(RXN_Network_N_step_dict, pickle_out1)\n",
    "    pickle_out1.close()\n",
    "\n",
    "    print (\"Step06 done!\")\n",
    "\n",
    "    return"
   ]
  },
  {
   "cell_type": "code",
   "execution_count": 18,
   "id": "56b8fbce",
   "metadata": {},
   "outputs": [
    {
     "name": "stdout",
     "output_type": "stream",
     "text": [
      "len(Used_MNXid_set):  10429\n"
     ]
    },
    {
     "name": "stderr",
     "output_type": "stream",
     "text": [
      "100%|█████████████████████████████████████████████████████████████████████████| 10429/10429 [00:00<00:00, 22279.14it/s]"
     ]
    },
    {
     "name": "stdout",
     "output_type": "stream",
     "text": [
      "Step06 done!\n"
     ]
    },
    {
     "name": "stderr",
     "output_type": "stream",
     "text": [
      "\n"
     ]
    }
   ],
   "source": [
    "loading_folder = Path(\"MNX_data/\")\n",
    "saving_folder = Path(\"MNX_ECFP_savings/\")\n",
    "\n",
    "Step06_main(loading_folder, saving_folder)"
   ]
  },
  {
   "cell_type": "markdown",
   "id": "daec2fd2",
   "metadata": {},
   "source": [
    "## Step07 Extract Reaction Distances Data from the Pathway Network"
   ]
  },
  {
   "cell_type": "code",
   "execution_count": 19,
   "id": "871eed0c",
   "metadata": {},
   "outputs": [],
   "source": [
    "# Step07 Imports\n",
    "#--------------------------------------------------#\n",
    "from scipy import stats\n",
    "#--------------------------------------------------#\n",
    "import pylab as pl\n",
    "import seaborn as sns\n",
    "import matplotlib.mlab as mlab\n",
    "import matplotlib.pyplot as plt\n",
    "#--------------------------------------------------#"
   ]
  },
  {
   "cell_type": "code",
   "execution_count": 20,
   "id": "8374cec2",
   "metadata": {},
   "outputs": [],
   "source": [
    "def update_paired_cmpds_list(distance, paired_cmpds_set, paired_cmpds_list, all_pairs_list):\n",
    "    # Step07_paired_cmpds_list  : [ [paired_cmpds_set, distance], [ set([frozenset(), frozenset()]) , d ], \n",
    "    #                               [ set([fs(), fs()]) , d ], \n",
    "    #                               [ set([ fs , fs ]) , d ], ..., [], [] , ... ]\n",
    "    # Step07_all_pairs_list     : [ paired_cmpds_set, \n",
    "    #                               set( [  frozenset( cmpd_x, ), frozenset(cmpd_x, cmpd_x, cmpd_x, ...)  ] ), \n",
    "    #                               set( [fs(), fs()] ), \n",
    "    #                               set( [ fs , fs ] ), ..., set([]), ...  ]\n",
    "    \n",
    "    # Used in parse_one_pathway(one_pathway, paired_cmpds_list, all_pairs_list)\n",
    "    if paired_cmpds_set not in all_pairs_list:\n",
    "        all_pairs_list.append(paired_cmpds_set)\n",
    "        paired_cmpds_list.append([paired_cmpds_set,distance])\n",
    "    else: \n",
    "        for i in range(len(paired_cmpds_list)):\n",
    "            if paired_cmpds_list[i][0]==paired_cmpds_set and paired_cmpds_list[i][1]>distance: # means we have a update in distance \n",
    "                #print (\"update for shorter distance found\")\n",
    "                paired_cmpds_list[i][1]=distance\n",
    "    return"
   ]
  },
  {
   "cell_type": "code",
   "execution_count": 21,
   "id": "78529263",
   "metadata": {},
   "outputs": [],
   "source": [
    "def Step07_main(loading_folder, saving_folder): # Time-consuming\n",
    "    #====================================================================================================#\n",
    "    # Open the Step01 temp file and retrieve useful info.\n",
    "    pickle_in1=open(saving_folder / \"Step01_cmpd_mnxid_smiles_dict_merged\",\"rb\")\n",
    "    cmpd_mnxid_smiles_dict=pickle.load(pickle_in1)\n",
    "    pickle_in1.close()\n",
    "    \n",
    "    #====================================================================================================#\n",
    "    # Open the Step06 temp file and retrieve useful info.\n",
    "    pickle_in1=open(saving_folder / \"Step06_RXN_Network_N_step_dict\",\"rb\")\n",
    "    RXN_Network_N_step_dict=pickle.load(pickle_in1)\n",
    "    pickle_in1.close()\n",
    "\n",
    "    #====================================================================================================#\n",
    "    # Again, use brute-force here since it wont take too long for this amount of data\n",
    "    print (\"Start working on Cmpd Pairs & Distance\", len(RXN_Network_N_step_dict))\n",
    "    len_pwy = len(list(RXN_Network_N_step_dict.values())[0])\n",
    "    print (\"len_pwy (steps of expansion): \", len_pwy) # steps of expansion\n",
    "\n",
    "    #====================================================================================================#\n",
    "    paired_cmpds_list=[]\n",
    "    all_pairs_list=[]\n",
    "    for one_cmpd in tqdm(RXN_Network_N_step_dict.keys()):\n",
    "\n",
    "        for i in range(len_pwy):\n",
    "            for another_cmpd in RXN_Network_N_step_dict[one_cmpd][i]:\n",
    "                distance = i+1\n",
    "                paired_cmpds=[(cmpd_mnxid_smiles_dict[one_cmpd],),(cmpd_mnxid_smiles_dict[another_cmpd],)]\n",
    "                paired_cmpds_set=set(frozenset(i) for i in paired_cmpds) # set?????\n",
    "                update_paired_cmpds_list(distance, paired_cmpds_set, paired_cmpds_list, all_pairs_list)\n",
    "\n",
    "    save_pickle_paired_cmpds_list = saving_folder / \"Step07_paired_cmpds_list\"\n",
    "    save_pickle_all_pairs_list = saving_folder / \"Step07_all_pairs_list\"\n",
    "    \n",
    "    pickle_out1=open(save_pickle_paired_cmpds_list,\"wb\")\n",
    "    pickle.dump(paired_cmpds_list, pickle_out1)\n",
    "    pickle_out1.close()\n",
    "\n",
    "    pickle_out2=open(save_pickle_all_pairs_list,\"wb\")\n",
    "    pickle.dump(all_pairs_list, pickle_out2)\n",
    "    pickle_out2.close()\n",
    "\n",
    "    print (\"Step07 Done!\")\n",
    "\n",
    "    return"
   ]
  },
  {
   "cell_type": "code",
   "execution_count": 22,
   "id": "feac66a7",
   "metadata": {},
   "outputs": [],
   "source": [
    "loading_folder = Path(\"MNX_data/\")\n",
    "saving_folder = Path(\"MNX_ECFP_savings/\")\n",
    "#Step07_main(loading_folder, saving_folder)"
   ]
  },
  {
   "cell_type": "markdown",
   "id": "6d6b065a",
   "metadata": {},
   "source": [
    "## Step08 Obtain ECFPs of compounds using CDK library"
   ]
  },
  {
   "cell_type": "markdown",
   "id": "9265afd7",
   "metadata": {},
   "source": []
  },
  {
   "cell_type": "code",
   "execution_count": 23,
   "id": "fec8b1fd",
   "metadata": {},
   "outputs": [
    {
     "name": "stdout",
     "output_type": "stream",
     "text": [
      "Running on Windows\n",
      "Running outside Visual Studio\n",
      "workbookDir: C:\\Users\\ZhiqingXu_AMD\\Desktop\\PwyLenPred\\MNX-VAE_v3.10\n"
     ]
    }
   ],
   "source": [
    "# Step08 Imports\n",
    "#--------------------------------------------------#\n",
    "import seaborn as sns\n",
    "import matplotlib.mlab as mlab\n",
    "import matplotlib.pyplot as plt\n",
    "#--------------------------------------------------#\n",
    "from scipy import stats\n",
    "from matplotlib import pylab as pl\n",
    "#--------------------------------------------------#\n",
    "from AP_RDKIT_FP import *\n",
    "from Step07_NetworkToDistance import *\n",
    "#--------------------------------------------------#"
   ]
  },
  {
   "cell_type": "code",
   "execution_count": 24,
   "id": "6c9a4b34",
   "metadata": {},
   "outputs": [],
   "source": [
    "def Step08_open_Step07_pickles(Step07_paired_cmpds_list_file_address, Step07_all_pairs_list_file_address):\n",
    "    # Step07_paired_cmpds_list  : [ [paired_cmpds_set, distance], [ set([frozenset(), frozenset()]) , d ], \n",
    "    #                               [ set([fs(), fs()]) , d ], \n",
    "    #                               [ set([ fs , fs ]) , d ], ..., [], [] , ... ]\n",
    "    # Step07_all_pairs_list     : [ paired_cmpds_set, \n",
    "    #                               set( [  frozenset( cmpd_x, ), frozenset(cmpd_x, cmpd_x, cmpd_x, ...)  ] ), \n",
    "    #                               set( [fs(), fs()] ), \n",
    "    #                               set( [ fs , fs ] ), ..., set([]), ...  ]\n",
    " \n",
    "    print (\"loading data!\")\n",
    "    pickle_in1=open(Step07_paired_cmpds_list_file_address,\"rb\")\n",
    "    paired_smiles_list=pickle.load(pickle_in1)\n",
    "    pickle_in1.close()\n",
    "\n",
    "    pickle_in2=open(Step07_all_pairs_list_file_address,\"rb\")\n",
    "    all_pairs_list=pickle.load(pickle_in2)\n",
    "    pickle_in2.close()\n",
    "    print (\"pickle data loaded!\")\n",
    "\n",
    "    return paired_smiles_list, all_pairs_list"
   ]
  },
  {
   "cell_type": "code",
   "execution_count": 25,
   "id": "885118c7",
   "metadata": {},
   "outputs": [],
   "source": [
    "def get_all_smiles_from_all_pairs_list(all_pairs_list):\n",
    "    # all_pairs_list     : [ paired_cmpds_set, \n",
    "    #                        set( [  frozenset( cmpd_x, ), frozenset(cmpd_x, cmpd_x, cmpd_x, ...)  ] ), \n",
    "    #                        set( [fs(), fs()] ), \n",
    "    #                        set( [ fs , fs ] ), ..., set([]), ...  ]\n",
    "\n",
    "    all_smiles=[]\n",
    "    for one_pair_set in all_pairs_list:\n",
    "        for one_frozen_set in one_pair_set:\n",
    "            for one_cmpd_x in one_frozen_set:\n",
    "                if one_cmpd_x not in all_smiles:\n",
    "                    all_smiles.append(one_cmpd_x)\n",
    "    return all_smiles"
   ]
  },
  {
   "cell_type": "code",
   "execution_count": 26,
   "id": "28b20b21",
   "metadata": {},
   "outputs": [],
   "source": [
    "def Initialize_all_smiles_all_ecfps(loading_folder, saving_folder, ECFP_encodings):\n",
    "\n",
    "    #====================================================================================================#\n",
    "    Step07_paired_cmpds_list_file_address = saving_folder  / \"Step07_paired_cmpds_list\" # \"_0\" files are old files\n",
    "    Step07_all_pairs_list_file_address = saving_folder / \"Step07_all_pairs_list\" # \"_0\" files are old files\n",
    "    paired_smiles_list, all_pairs_list = Step08_open_Step07_pickles(Step07_paired_cmpds_list_file_address, Step07_all_pairs_list_file_address)\n",
    "    \n",
    "    all_smiles = get_all_smiles_from_all_pairs_list(all_pairs_list)\n",
    "    print (\"number of SMILES(compounds): \", len(all_smiles))\n",
    "    print (\"number of SMILES pairs (compound pairs w/ distance info): \", len(all_pairs_list))\n",
    "    (all_ecfps, all_smiles_ecfps_dict) = generate_all_smiles_ecfps_list_dict(all_smiles, \n",
    "                                                                             ecfp_type = ECFP_encodings, \n",
    "                                                                             iteration_number = round(int(ECFP_encodings[-1])/2.) )\n",
    "\n",
    "    #====================================================================================================#\n",
    "    pickle_out1=open(saving_folder  / (\"Step08_all_cmpds_\" + ECFP_encodings),\"wb\")\n",
    "    pickle.dump(all_smiles, pickle_out1)\n",
    "    pickle_out1.close()\n",
    "    pickle_out2=open(saving_folder  / (\"Step08_all_ecfps_\" + ECFP_encodings),\"wb\")\n",
    "    pickle.dump(all_ecfps, pickle_out2)\n",
    "    pickle_out2.close()\n",
    "    pickle_out3=open(saving_folder  / (\"Step08_all_cmpds_ecfps_dict_\" + ECFP_encodings),\"wb\")\n",
    "    pickle.dump(all_smiles_ecfps_dict, pickle_out3)\n",
    "    pickle_out3.close()\n",
    "\n",
    "    print (\"Done Initialize_all_smiles_all_ecfps! \")\n",
    "    \n",
    "def Step08_main(loading_folder, saving_folder, ECFP_encodings):\n",
    "    Initialize_all_smiles_all_ecfps(loading_folder, saving_folder, ECFP_encodings)\n",
    "    print(\"Step08 Done!\")\n",
    "    return"
   ]
  },
  {
   "cell_type": "code",
   "execution_count": 27,
   "id": "0277633f",
   "metadata": {},
   "outputs": [],
   "source": [
    "loading_folder = Path(\"MNX_data/\")\n",
    "saving_folder = Path(\"MNX_ECFP_savings/\")\n",
    "# Args\n",
    "# Select ECFP encodings\n",
    "#-------------------      0        1        2        3          4         5        6     \n",
    "ECFP_encodings_list = [\"ECFP2\", \"ECFP4\", \"ECFP6\", \"JTVAE\", \"MorganFP\", \"ECFP8\", \"ECFPX\"]\n",
    "ECFP_encodings = ECFP_encodings_list[0]\n",
    "ECFP_type = ECFP_encodings[-1] if ECFP_encodings in [\"ECFP2\", \"ECFP4\", \"ECFP6\"] else \"6\" # 2, 4, 6\n",
    "\n",
    "#Step08_main(loading_folder, saving_folder, ECFP_encodings)"
   ]
  },
  {
   "cell_type": "markdown",
   "id": "e5006272",
   "metadata": {},
   "source": [
    "## Step09 Get Processed Dataset Ready for Machine Learning Model(s)\n",
    "X - Difference between count encodings of each pair of compounds\n",
    "y - reaction distance (defined by number of minimum reaction steps required to transform a set of precursor to a target)\n",
    "In this example, we only consider pairs of compounds. Reaction distances of pairs of precursors and target trained on chemically plausible synthetic pathway network have been used to train a separate model and the model has been shown to have stronger predictive performance."
   ]
  },
  {
   "cell_type": "code",
   "execution_count": 28,
   "id": "f4fd5b23",
   "metadata": {},
   "outputs": [],
   "source": [
    "# Step09 Imports\n",
    "#--------------------------------------------------#\n",
    "import seaborn as sns\n",
    "import matplotlib.mlab as mlab\n",
    "import matplotlib.pyplot as plt\n",
    "#--------------------------------------------------#\n",
    "from scipy import stats\n",
    "from matplotlib import pylab as pl\n",
    "#--------------------------------------------------#\n",
    "from AP_RDKIT_FP import *\n",
    "from Step07_NetworkToDistance import *\n",
    "#--------------------------------------------------#\n",
    "from sklearn.manifold import TSNE"
   ]
  },
  {
   "cell_type": "code",
   "execution_count": 29,
   "id": "79fc211f",
   "metadata": {},
   "outputs": [],
   "source": [
    "def list_smiles_to_ecfp_through_dict(smiles_list, all_cmpds_ecfps_dict):\n",
    "    ecfp_list=[]\n",
    "    for one_smiles in smiles_list:\n",
    "        ecfp_list=ecfp_list+all_cmpds_ecfps_dict[one_smiles]\n",
    "    return ecfp_list\n",
    "\n",
    "#====================================================================================================#\n",
    "def parse_one_pair_info(one_pair_info, all_ecfps, all_cmpds_ecfps_dict):\n",
    "    dimension=len(all_ecfps)\n",
    "    X1i=[0]*dimension\n",
    "    X2i=[0]*dimension\n",
    "    X1i_ecfp_list=list_smiles_to_ecfp_through_dict(list(list(one_pair_info[0])[0]),all_cmpds_ecfps_dict)\n",
    "    X2i_ecfp_list=list_smiles_to_ecfp_through_dict(list(list(one_pair_info[0])[1]),all_cmpds_ecfps_dict)\n",
    "    distance=one_pair_info[1]\n",
    "    for one_ecfp in X1i_ecfp_list:\n",
    "        X1i[all_ecfps.index(one_ecfp)]=X1i_ecfp_list.count(one_ecfp)\n",
    "    for one_ecfp in X2i_ecfp_list:\n",
    "        X2i[all_ecfps.index(one_ecfp)]=X2i_ecfp_list.count(one_ecfp)\n",
    "    Yi=distance\n",
    "    return (X1i,X2i,Yi)\n",
    "\n",
    "#====================================================================================================#\n",
    "def list_subtract(list_a,list_b):\n",
    "    list_out=[]\n",
    "    for i in range(len(list_a)):\n",
    "        list_out.append(list_a[i]-list_b[i])\n",
    "    return list_out"
   ]
  },
  {
   "cell_type": "code",
   "execution_count": 30,
   "id": "78029eb7",
   "metadata": {},
   "outputs": [],
   "source": [
    "def Step09_main(loading_folder, saving_folder, ECFP_encodings):\n",
    "    \n",
    "    #====================================================================================================#\n",
    "    pickle_in1=open(saving_folder  / \"Step07_paired_cmpds_list\",\"rb\")\n",
    "    paired_smiles_list=pickle.load(pickle_in1)\n",
    "    pickle_in1.close()\n",
    "    \n",
    "    pickle_in2=open(saving_folder  / \"Step07_all_pairs_list\",\"rb\")\n",
    "    all_pairs_list=pickle.load(pickle_in2)\n",
    "    pickle_in2.close()\n",
    "    #====================================================================================================#\n",
    "    pickle_in1=open(saving_folder  / (\"Step08_all_cmpds_\"+ECFP_encodings),\"rb\")\n",
    "    all_smiles=pickle.load(pickle_in1)\n",
    "    pickle_in1.close()\n",
    "    \n",
    "    pickle_in2=open(saving_folder  / (\"Step08_all_ecfps_\"+ECFP_encodings),\"rb\")\n",
    "    all_ecfps=pickle.load(pickle_in2)\n",
    "    pickle_in2.close()\n",
    "    \n",
    "    pickle_in3=open(saving_folder  / (\"Step08_all_cmpds_ecfps_dict_\"+ECFP_encodings),\"rb\")\n",
    "    all_smiles_ecfps_dict=pickle.load(pickle_in3)\n",
    "    pickle_in3.close()\n",
    "    #====================================================================================================#\n",
    "    for one_pair_info in paired_smiles_list:\n",
    "        if len(one_pair_info[0])!=2:\n",
    "            #print (one_pair_info[0])\n",
    "            #print (\"unexpected error: source and target compound are exactly the same and with non-zero reaction distance.\")\n",
    "            paired_smiles_list.remove(one_pair_info)\n",
    "    print (\"screened!\")\n",
    "    #====================================================================================================#\n",
    "    all_ecfps=list(all_ecfps)\n",
    "    X_Diff=[]\n",
    "    Y_Distance=[]\n",
    "\n",
    "    for one_pair_info in tqdm(paired_smiles_list):\n",
    "        (X1i, X2i, Yi)=parse_one_pair_info(one_pair_info,all_ecfps,all_smiles_ecfps_dict)\n",
    "        X_Diff.append(list_subtract(X1i, X2i))\n",
    "        Y_Distance.append(Yi)\n",
    "    Step09_processed_data_dict = {\"X_data\": X_Diff, \"y_data\": Y_Distance}\n",
    "    #====================================================================================================#\n",
    "    # t-SNE visualization\n",
    "    # Skipped\n",
    "    #====================================================================================================#    \n",
    "    pickle_out1=open(saving_folder / \"Step09_processed_data_\"+ ECFP_encodings,\"wb\")\n",
    "    pickle.dump(Step09_processed_data_dict, pickle_out1)\n",
    "    pickle_out1.close()\n",
    "\n",
    "    print(\"Step09_main Done!\")\n",
    "\n",
    "    return"
   ]
  },
  {
   "cell_type": "code",
   "execution_count": 31,
   "id": "064f4dcf",
   "metadata": {},
   "outputs": [],
   "source": [
    "loading_folder = Path(\"MNX_data/\")\n",
    "saving_folder = Path(\"MNX_ECFP_savings/\")\n",
    "ECFP_encodings_list = [\"ECFP2\", \"ECFP4\", \"ECFP6\", \"JTVAE\", \"MorganFP\", \"ECFP8\", \"ECFPX\"]\n",
    "ECFP_encodings = ECFP_encodings_list[0]\n",
    "ECFP_type = ECFP_encodings[-1] if ECFP_encodings in [\"ECFP2\", \"ECFP4\", \"ECFP6\"] else \"6\" # 2, 4, 6\n",
    "\n",
    "#Step09_main(loading_folder, saving_folder, ECFP_encodings)"
   ]
  },
  {
   "cell_type": "markdown",
   "id": "ab07c068",
   "metadata": {},
   "source": [
    "## Step10.3 Decision-Tree Model trained on Processed Reaction Dataset"
   ]
  },
  {
   "cell_type": "code",
   "execution_count": 32,
   "id": "84d7c51d",
   "metadata": {},
   "outputs": [],
   "source": [
    "# Step10.3 Imports\n",
    "#--------------------------------------------------#\n",
    "from sklearn import datasets\n",
    "from sklearn import preprocessing\n",
    "from sklearn.preprocessing import MinMaxScaler   \n",
    "from sklearn.model_selection import train_test_split\n",
    "#--------------------------------------------------#\n",
    "from sklearn import svm\n",
    "from sklearn import tree\n",
    "from sklearn import metrics\n",
    "from sklearn.metrics import roc_auc_score\n",
    "from sklearn.metrics import roc_curve, auc\n",
    "from sklearn.metrics import classification_report\n",
    "from sklearn.metrics import precision_recall_curve\n",
    "from sklearn.metrics import confusion_matrix, classification_report\n",
    "#--------------------------------------------------#\n",
    "#from sklearn.model_selection import GridSearchCV\n",
    "#from sklearn.tree import DecisionTreeRegressor\n",
    "#--------------------------------------------------#\n",
    "import seaborn as sns\n",
    "import matplotlib.mlab as mlab\n",
    "import matplotlib.pyplot as plt\n",
    "#--------------------------------------------------#\n",
    "from scipy import stats\n",
    "from matplotlib import pylab as pl\n",
    "#--------------------------------------------------#\n",
    "#from tpot import TPOTRegressor\n",
    "from ipywidgets import IntProgress\n",
    "from pathlib import Path\n",
    "from copy import deepcopy\n",
    "#--------------------------------------------------#\n",
    "from datetime import datetime\n",
    "from sklearn.manifold import TSNE\n",
    "#--------------------------------------------------#\n",
    "# Random Seeds\n",
    "seed=42\n",
    "random.seed(seed)\n",
    "np.random.seed(seed)\n",
    "#--------------------------------------------------#"
   ]
  },
  {
   "cell_type": "markdown",
   "id": "a101663d",
   "metadata": {},
   "source": [
    "### Step10.3.1 Select Input parameters"
   ]
  },
  {
   "cell_type": "code",
   "execution_count": 33,
   "id": "7358310f",
   "metadata": {},
   "outputs": [],
   "source": [
    "# Args\n",
    "#--------------------------------------------------#\n",
    "# Data related parameters\n",
    "#-------------------      0        1        2        3          4         5        6     \n",
    "ECFP_encodings_list = [\"ECFP2\", \"ECFP4\", \"ECFP6\", \"JTVAE\", \"MorganFP\", \"ECFP8\", \"ECFPX\"]\n",
    "ECFP_encodings = ECFP_encodings_list[0]\n",
    "ECFP_type = ECFP_encodings[-1] if ECFP_encodings in [\"ECFP2\", \"ECFP4\", \"ECFP6\"] else \"6\" # 2, 4, 6\n",
    "#--------------------------------------------------#\n",
    "# Data imports\n",
    "Step_code = \"Step10_MNX_ECFP_DT\"\n",
    "data_folder = Path(\"MNX_ECFP_savings/\")\n",
    "data_file=\"Step09_processed_data_\" + ECFP_encodings\n",
    "#--------------------------------------------------#\n",
    "# Prediction parameter settings\n",
    "model_type_list=[\"Reg\", \"Clf\"] # Reg for ordinal Regression\n",
    "model_type=model_type_list[1]\n",
    "#--------------------------------------------------#\n",
    "# Results savings\n",
    "results_folder = Path(\"MNX_ECFP_savings/\" + Step_code +\"_results/\")\n",
    "if not os.path.exists(results_folder):\n",
    "    os.makedirs(results_folder)\n",
    "output_file_3 = Step_code + \"_all_X_y.p\"\n",
    "output_file_header = Step_code + \"_result_\""
   ]
  },
  {
   "cell_type": "markdown",
   "id": "4e4988a8",
   "metadata": {},
   "source": [
    "### Step10.3.2 Create Temporary Folder for Saving Results"
   ]
  },
  {
   "cell_type": "code",
   "execution_count": 34,
   "id": "a9393add",
   "metadata": {},
   "outputs": [
    {
     "name": "stdout",
     "output_type": "stream",
     "text": [
      ">>>>> Creating temporary subfolder and clear past empty folders! <<<<<\n",
      ">>>>> Temporary subfolder created! <<<<<\n"
     ]
    }
   ],
   "source": [
    "# Create Temp Folder for Saving Results\n",
    "print(\">>>>> Creating temporary subfolder and clear past empty folders! <<<<<\")\n",
    "now = datetime.now()\n",
    "#d_t_string = now.strftime(\"%Y%m%d_%H%M%S\")\n",
    "d_t_string = now.strftime(\"%m%d-%H%M%S\")\n",
    "#====================================================================================================#\n",
    "# REMOVE PREVIOUS EMPTY FOLDERS !!!!!\n",
    "results_folder_contents = os.listdir(results_folder)\n",
    "for item in results_folder_contents:\n",
    "    if os.path.isdir(results_folder / item):\n",
    "        try:\n",
    "            os.rmdir(results_folder / item)\n",
    "            print(\"Remove empty folder \" + item + \"!\")\n",
    "        except:\n",
    "            #print(\"Found Non-empty folder \" + item + \"!\")\n",
    "            pass\n",
    "temp_folder_name = Step_code + ECFP_type + \"_\" + d_t_string + \"_\" + model_type\n",
    "results_sub_folder = results_folder / (temp_folder_name +\"/\")\n",
    "if not os.path.exists(results_sub_folder):\n",
    "    os.makedirs(results_sub_folder)\n",
    "print(\">>>>> Temporary subfolder created! <<<<<\")"
   ]
  },
  {
   "cell_type": "code",
   "execution_count": 35,
   "id": "218f9710",
   "metadata": {},
   "outputs": [
    {
     "name": "stdout",
     "output_type": "stream",
     "text": [
      "==================================================\n",
      "Step_code:  Step10_MNX_ECFP_DT\n",
      "ECFP_encodings:  ECFP2\n",
      "model_type:  Clf\n",
      "==================================================\n"
     ]
    }
   ],
   "source": [
    "class Tee(object):\n",
    "    def __init__(self, *files):\n",
    "        self.files = files\n",
    "    def write(self, obj):\n",
    "        for f in self.files:\n",
    "            f.write(obj)\n",
    "            f.flush() # If you want the output to be visible immediately\n",
    "    def flush(self) :\n",
    "        for f in self.files:\n",
    "            f.flush()\n",
    "#--------------------------------------------------#\n",
    "orig_stdout = sys.stdout\n",
    "f = open(results_sub_folder / 'print_out.txt', 'w')\n",
    "#sys.stdout = Tee(sys.stdout, f)\n",
    "print(\"=\"*50)\n",
    "#--------------------------------------------------#\n",
    "print(\"Step_code: \", Step_code)\n",
    "#--------------------------------------------------#\n",
    "print(\"ECFP_encodings: \", ECFP_encodings)\n",
    "#--------------------------------------------------#\n",
    "print(\"model_type: \", model_type)\n",
    "print(\"=\"*50)"
   ]
  },
  {
   "cell_type": "markdown",
   "id": "15ec9019",
   "metadata": {},
   "source": [
    "### Step10.3.3 Import Processed Dataset"
   ]
  },
  {
   "cell_type": "code",
   "execution_count": 36,
   "id": "fee42a9b",
   "metadata": {},
   "outputs": [],
   "source": [
    "# Get Input files\n",
    "# Get Sequence Embeddings from X03 pickles.\n",
    "with open( data_folder / data_file, 'rb') as Step09_processed_data:\n",
    "    processed_data_dict = pickle.load(Step09_processed_data)\n",
    "X_data = processed_data_dict[\"X_data\"]\n",
    "y_data = processed_data_dict[\"y_data\"]\n"
   ]
  },
  {
   "cell_type": "markdown",
   "id": "b7801b3d",
   "metadata": {},
   "source": [
    "### Step10.3.4 Use t-distributed stochastic neighbor embedding to Visualize the Dataset"
   ]
  },
  {
   "cell_type": "code",
   "execution_count": 37,
   "id": "d915b660",
   "metadata": {},
   "outputs": [],
   "source": [
    "def tSNE_Visualization(X_data, y_data):\n",
    "    print (\"Start tSNE ...\")\n",
    "    tsne = TSNE(n_components=2, verbose=1, random_state=42)\n",
    "    X = tsne.fit_transform(X_data)\n",
    "    df = pd.DataFrame()\n",
    "    df[\"y\"] = y_data\n",
    "    df[\"tSNE_1\"] = X[:,0]\n",
    "    df[\"tSNE_2\"] = X[:,1]\n",
    "    print (\"End tSNE.\")\n",
    "    \n",
    "    sns.set(style = \"darkgrid\")\n",
    "    fig = plt.figure(figsize=(15,15))\n",
    "    ax = sns.scatterplot(x=\"tSNE_1\", y=\"tSNE_2\", hue=df.y.tolist(),\n",
    "                    palette=sns.color_palette(\"hls\", 10),\n",
    "                    data=df)\n",
    "    \n",
    "    font = {'family' : 'normal', 'weight' : 'bold', 'size': 30}\n",
    "    plt.rc('font', **font)\n",
    "    plt.rc('font', size=30)          # controls default text sizes\n",
    "    plt.rc('axes', titlesize=30)     # fontsize of the axes title\n",
    "    plt.rc('axes', labelsize=30)    # fontsize of the x and y labels\n",
    "    plt.rc('xtick', labelsize=30)    # fontsize of the tick labels\n",
    "    plt.rc('ytick', labelsize=30)    # fontsize of the tick labels\n",
    "    plt.rc('legend', fontsize=30)    # legend fontsize\n",
    "    plt.rc('figure', titlesize=30)  # fontsize of the figure title\n",
    "    plt.xticks(fontsize = 30)\n",
    "    plt.yticks(fontsize = 30)\n",
    "    plt.xlabel('t-SNE Dimension 1',**font)\n",
    "    plt.ylabel('t-SNE Dimension 2',**font)\n",
    "    plt.title('t-SNE Visualization Plot',**font)\n",
    "    plt.setp(ax.get_legend().get_texts(), fontsize='22') # for legend text\n",
    "    plt.setp(ax.get_legend().get_title(), fontsize='32') # for legend title\n",
    "    #--------------------------------------------------#\n",
    "    plt.show()\n",
    "    fig.savefig(results_sub_folder / (output_file_header + \"_t-SNE_plot_\" +str(len(X_data))) , dpi=300 ) \n",
    "    return\n",
    "\n",
    "#tSNE_Visualization(X_data[:2000], y_data[:2000])"
   ]
  },
  {
   "cell_type": "markdown",
   "id": "624b3054",
   "metadata": {},
   "source": [
    "### Step10.3.5 t-SNE 3D plot"
   ]
  },
  {
   "cell_type": "code",
   "execution_count": 38,
   "id": "cc78434e",
   "metadata": {},
   "outputs": [],
   "source": [
    "def tSNE_Visualization_3D(X_data, y_data):\n",
    "    print (\"Start tSNE ...\")\n",
    "    tsne = TSNE(n_components=3, verbose=1, random_state=0)\n",
    "    X = tsne.fit_transform(X_data)\n",
    "    df = pd.DataFrame()\n",
    "    df[\"y\"] = y_data\n",
    "    df[\"tSNE_1\"] = X[:,0]\n",
    "    df[\"tSNE_2\"] = X[:,1]\n",
    "    df[\"tSNE_3\"] = X[:,2]\n",
    "    print (\"End tSNE.\")\n",
    "    \n",
    "    #--------------------------------------------------#\n",
    "    font1 = {'family' : 'normal', 'weight' : 'bold', 'size': 20}\n",
    "    ax = plt.figure(figsize=(12,12)).gca(projection='3d')\n",
    "    ax.scatter(\n",
    "        xs=df[\"tSNE_1\"], \n",
    "        ys=df[\"tSNE_2\"], \n",
    "        zs=df[\"tSNE_3\"], \n",
    "        c=df[\"y\"], \n",
    "        cmap='tab10'\n",
    "    )\n",
    "    #--------------------------------------------------#\n",
    "    ax.set_xlabel('tSNE_1', **font1)\n",
    "    ax.set_ylabel('tSNE_2', **font1)\n",
    "    ax.set_zlabel('tSNE_3', **font1)\n",
    "    ax.tick_params(axis=\"x\", labelsize=20)\n",
    "    ax.tick_params(axis=\"y\", labelsize=20)\n",
    "    ax.tick_params(axis=\"z\", labelsize=20)\n",
    "    #--------------------------------------------------#\n",
    "    ax.set_xlim(-60,60)\n",
    "    ax.set_ylim(-60,60)\n",
    "    ax.set_zlim(-60,60)\n",
    "    #--------------------------------------------------#\n",
    "    plt.title('t-SNE Visualization 3D Plot for Processed Data', **font1)\n",
    "    #--------------------------------------------------#\n",
    "    fig = plt.gcf()\n",
    "    fig.savefig(results_sub_folder / (output_file_header + \"_t-SNE_plot3D_\" +str(len(X_data))) , dpi=300 ) \n",
    "    plt.show()\n",
    "    return\n",
    "\n",
    "#tSNE_Visualization_3D(X_data[:1600], y_data[:1600])"
   ]
  },
  {
   "cell_type": "markdown",
   "id": "7ba0a29a",
   "metadata": {},
   "source": [
    "### 10.3.6 Create Labels Dictionary"
   ]
  },
  {
   "cell_type": "code",
   "execution_count": 39,
   "id": "03726386",
   "metadata": {},
   "outputs": [],
   "source": [
    "# Define a dict since classes read by pytorch shall be {0,1,...C-1}\n",
    "class2idx = dict([])\n",
    "for i in range(10):\n",
    "    class2idx[i+1]=i\n",
    "idx2class = {v: k for k, v in class2idx.items()}\n",
    "y_data = [class2idx[one_class] for one_class in y_data]\n",
    "#print(y_data)"
   ]
  },
  {
   "cell_type": "markdown",
   "id": "958413fc",
   "metadata": {},
   "source": [
    "### 10.3.7 Data Split"
   ]
  },
  {
   "cell_type": "code",
   "execution_count": 40,
   "id": "a30a6e9d",
   "metadata": {},
   "outputs": [
    {
     "name": "stdout",
     "output_type": "stream",
     "text": [
      "data set size:  109081\n",
      "train set size:  98172\n",
      "valid set size:  5454\n",
      "test set size:  5455\n",
      "X dimendion:  3782\n",
      "==================================================\n"
     ]
    }
   ],
   "source": [
    "# Data Split\n",
    "X_train, X_test, y_train, y_test = train_test_split(X_data, y_data, test_size=0.1, stratify=y_data, random_state=42)\n",
    "X_valid, X_test, y_valid, y_test = train_test_split(X_test, y_test, test_size=0.5, stratify=y_test, random_state=42)\n",
    "\n",
    "print(\"data set size: \", len(y_data))\n",
    "print(\"train set size: \", len(y_train))\n",
    "print(\"valid set size: \", len(y_valid))\n",
    "print(\"test set size: \", len(y_test))\n",
    "print(\"X dimendion: \", len(X_data[0]))\n",
    "print(\"=\"*50)"
   ]
  },
  {
   "cell_type": "code",
   "execution_count": 41,
   "id": "51de5b18",
   "metadata": {},
   "outputs": [],
   "source": [
    "## Normalize Inputs ? NO NEED TO NORMALIZE FOR DECISION TREE!!\n",
    "#print(\"Normalizing Inputs... NOT necessary in this case.\")\n",
    "#scaler = MinMaxScaler()\n",
    "#X_train = scaler.fit_transform(X_train)\n",
    "#X_valid = scaler.transform(X_valid)\n",
    "#X_test = scaler.transform(X_test)\n",
    "#print(\"Normalized Inputs... NOT necessary in this case.\")\n",
    "\n",
    "X_train, y_train = np.array(X_train), np.array(y_train)\n",
    "X_valid, y_valid = np.array(X_valid), np.array(y_valid)\n",
    "X_test , y_test  = np.array(X_test) , np.array(y_test)"
   ]
  },
  {
   "cell_type": "markdown",
   "id": "1481d3df",
   "metadata": {},
   "source": [
    "### 10.3.8 Use sns.barplot to Show the Distribution of Data Split"
   ]
  },
  {
   "cell_type": "code",
   "execution_count": 42,
   "id": "c5df3f8e",
   "metadata": {},
   "outputs": [],
   "source": [
    "def get_class_distribution(obj):\n",
    "    count_dict = {\n",
    "        \"d=1\": 0,\n",
    "        \"d=2\": 0,\n",
    "        \"d=3\": 0,\n",
    "        \"d=4\": 0,\n",
    "        \"d=5\": 0,\n",
    "        \"d=6\": 0,\n",
    "        \"d=7\": 0,\n",
    "        \"d=8\": 0,\n",
    "        \"d=9\": 0,\n",
    "        \"d=10\": 0,\n",
    "    }\n",
    "    for i in obj:\n",
    "        if i == 0: \n",
    "            count_dict['d=1'] += 1\n",
    "        elif i == 1: \n",
    "            count_dict['d=2'] += 1\n",
    "        elif i == 2: \n",
    "            count_dict['d=3'] += 1\n",
    "        elif i == 3: \n",
    "            count_dict['d=4'] += 1  \n",
    "        elif i == 4: \n",
    "            count_dict['d=5'] += 1        \n",
    "        elif i == 5: \n",
    "            count_dict['d=6'] += 1\n",
    "        elif i == 6: \n",
    "            count_dict['d=7'] += 1\n",
    "        elif i == 7: \n",
    "            count_dict['d=8'] += 1\n",
    "        elif i == 8: \n",
    "            count_dict['d=9'] += 1\n",
    "        elif i == 9: \n",
    "            count_dict['d=10'] += 1\n",
    "        else:\n",
    "            print(\"Check classes.\")\n",
    "    return count_dict"
   ]
  },
  {
   "cell_type": "code",
   "execution_count": 43,
   "id": "5d70f7a0",
   "metadata": {},
   "outputs": [
    {
     "data": {
      "image/png": "[encoded data removed]",
      "text/plain": [
       "<Figure size 1152x360 with 3 Axes>"
      ]
     },
     "metadata": {
      "needs_background": "light"
     },
     "output_type": "display_data"
    }
   ],
   "source": [
    "# Check the data splitting and confirm equal stratification in train/test/valid dataset.\n",
    "\n",
    "fig, axes = plt.subplots(nrows=1, ncols=3, figsize=(16,5))\n",
    "# Train\n",
    "sns.barplot(data = pd.DataFrame.from_dict([get_class_distribution(y_train)]).melt(), x = \"variable\", y=\"value\",  ax=axes[0]).set_title('Class Distribution in Train Set')\n",
    "# Validation\n",
    "sns.barplot(data = pd.DataFrame.from_dict([get_class_distribution(y_valid)]).melt(), x = \"variable\", y=\"value\",  ax=axes[1]).set_title('Class Distribution in Valid Set')\n",
    "# Test\n",
    "sns.barplot(data = pd.DataFrame.from_dict([get_class_distribution(y_test)]).melt(), x = \"variable\", y=\"value\",  ax=axes[2]).set_title('Class Distribution in Test Set')\n",
    "\n",
    "plt.show()"
   ]
  },
  {
   "cell_type": "markdown",
   "id": "ff5d6593",
   "metadata": {},
   "source": [
    "### 10.3.9 Train a Decision Tree Model"
   ]
  },
  {
   "cell_type": "code",
   "execution_count": 44,
   "id": "e0bb39bf",
   "metadata": {},
   "outputs": [],
   "source": [
    "#Before training, define a function to calculate accuracy.\n",
    "\n",
    "def multi_acc(y_pred, y_test): \n",
    "    correct_pred = (y_pred == y_test)\n",
    "    acc = correct_pred.sum() / len(correct_pred)\n",
    "    acc = round(acc * 1000) / 1000.\n",
    "    return acc"
   ]
  },
  {
   "cell_type": "code",
   "execution_count": 45,
   "id": "c4aa0f3d",
   "metadata": {},
   "outputs": [
    {
     "name": "stdout",
     "output_type": "stream",
     "text": [
      "Start DT Training...\n",
      "Train Acc:  0.956 Test Acc:  0.597\n"
     ]
    }
   ],
   "source": [
    "print(\"Start DT Training...\")\n",
    "clf = tree.DecisionTreeClassifier()\n",
    "clf = clf.fit(X_train, y_train)\n",
    "#print (clf.decision_path(X_valid[0]))\n",
    "#--------------------------------------------------#\n",
    "y_pred = clf.predict(X_test)\n",
    "y_train_pred = clf.predict(X_train)\n",
    "#--------------------------------------------------#\n",
    "test_acc = multi_acc(y_pred, y_test)\n",
    "train_acc = multi_acc(y_train_pred, y_train)\n",
    "#--------------------------------------------------#\n",
    "print(\"Train Acc: \", train_acc, \"Test Acc: \", test_acc )"
   ]
  },
  {
   "cell_type": "markdown",
   "id": "11dff448",
   "metadata": {},
   "source": [
    "### 10.3.10 Show Predictive Performance (Confusion Matrix and Classification Report)"
   ]
  },
  {
   "cell_type": "code",
   "execution_count": 46,
   "id": "57349399",
   "metadata": {},
   "outputs": [
    {
     "name": "stderr",
     "output_type": "stream",
     "text": [
      "100%|██████████████████████████████████████████████████████████████████████████| 5455/5455 [00:00<00:00, 495783.84it/s]\n"
     ]
    },
    {
     "data": {
      "image/png": "[encoded data removed]",
      "text/plain": [
       "<Figure size 720x720 with 10 Axes>"
      ]
     },
     "metadata": {
      "needs_background": "light"
     },
     "output_type": "display_data"
    }
   ],
   "source": [
    "#====================================================================================================#\n",
    "sim_dist_1=[]\n",
    "sim_dist_2=[]\n",
    "sim_dist_3=[]\n",
    "sim_dist_4=[]\n",
    "sim_dist_5=[]\n",
    "sim_dist_6=[]\n",
    "sim_dist_7=[]\n",
    "sim_dist_8=[]\n",
    "sim_dist_9=[]\n",
    "sim_dist_10=[]\n",
    "#====================================================================================================#\n",
    "for i in tqdm(range(len(y_pred))):\n",
    "    distance = y_test[i] + 1\n",
    "    prediction = y_pred[i] + 1\n",
    "    if distance==1:\n",
    "        sim_dist_1.append(prediction)\n",
    "    if distance==2:\n",
    "        sim_dist_2.append(prediction)\n",
    "    if distance==3:\n",
    "        sim_dist_3.append(prediction)\n",
    "    if distance==4:\n",
    "        sim_dist_4.append(prediction)\n",
    "    if distance==5:\n",
    "        sim_dist_5.append(prediction)\n",
    "    if distance==6:\n",
    "        sim_dist_6.append(prediction)\n",
    "    if distance==7:\n",
    "        sim_dist_7.append(prediction)\n",
    "    if distance==8:\n",
    "        sim_dist_8.append(prediction)\n",
    "    if distance==9:\n",
    "        sim_dist_9.append(prediction)\n",
    "    if distance==10:\n",
    "        sim_dist_10.append(prediction)\n",
    "#====================================================================================================#\n",
    "x=[]\n",
    "x.append(np.array(sim_dist_1))\n",
    "x.append(np.array(sim_dist_2))\n",
    "x.append(np.array(sim_dist_3))\n",
    "x.append(np.array(sim_dist_4))\n",
    "x.append(np.array(sim_dist_5))\n",
    "x.append(np.array(sim_dist_6))\n",
    "x.append(np.array(sim_dist_7))\n",
    "x.append(np.array(sim_dist_8))  \n",
    "x.append(np.array(sim_dist_9)) \n",
    "x.append(np.array(sim_dist_10)) \n",
    "\n",
    "import warnings\n",
    "warnings.filterwarnings('ignore')\n",
    "#====================================================================================================#\n",
    "col_list=[\"red\",\"orange\",\"goldenrod\",\"darkgreen\",\"cyan\",\"darkblue\",\"purple\",\"grey\", \"saddlebrown\", \"pink\"]\n",
    "#====================================================================================================#\n",
    "def plot_type_1():\n",
    "    font = {'family' : \"Times New Roman\"}\n",
    "    plt.rc('font', **font)\n",
    "    g_all = plt.figure(figsize=(10,10))\n",
    "    for i in [0,1,2,3,4,5,6,7,8,9]:\n",
    "        g = plt.subplot(10, 1, i+1)\n",
    "        #sns.kdeplot(x[i], bw = 0.01 , color=\"darkred\")\n",
    "        sns.distplot(x[i], hist = 1, bins=np.arange(0.5,10.5,0.333), rug=False, kde=True, kde_kws={'bw':0.1},hist_kws=dict(ec=\"k\"), color=col_list[i])\n",
    "        #sns.distplot(x[i], hist = 1, bins=np.arange(0.5,10.5,0.333), rug=False, kde=True, kde_kws={'bw':0.2},hist_kws=dict(ec=\"k\"), color=col_list[i])\n",
    "        #sns.distplot(x[i], hist = 1, bins=np.arange(0.5,10.5,0.333), rug=False, kde=True, kde_kws={'bw':0.5},hist_kws=dict(ec=\"k\"), color=col_list[i])\n",
    "        #--------------------------------------------------#\n",
    "        g.set_yticks([0,1,2])\n",
    "        g.set(yticklabels=[0,1,2])\n",
    "        g.set(ylabel=None)\n",
    "        g.tick_params(axis=\"y\", labelsize=12)\n",
    "        g.set_ylim((0,2))\n",
    "        g.set_ylim((0,3)) if (i == 0 or i == 1) else 0\n",
    "        #--------------------------------------------------#\n",
    "        g.set_xticks([])\n",
    "        g.set(xlabel=None)\n",
    "        g.set_xlim((0,11))\n",
    "        g.set_xticks([2,4,6,8,10]) if i == 9 else 0\n",
    "        g.set(xticklabels=[2,4,6,8,10]) if i == 9 else 0\n",
    "        g.tick_params(axis=\"x\", labelsize=12)\n",
    "        g.set_title(\"Stacked Distribution Plot (Predicted Distances)\\n\", fontsize=18) if i == 0 else 0\n",
    "        g.set_ylabel(\"Probability Distribution Function (Density)\", fontsize=18) if i == 4 else 0\n",
    "        g.set_xlabel(\"Predicted Distances\", fontsize=18) if i == 9 else 0\n",
    "        \n",
    "    plt.show()\n",
    "    g_all.savefig(results_sub_folder / (output_file_header + \"_StackedDistn_PredictedDistance\") , dpi=1000 ) \n",
    "\n",
    "    return\n",
    "#====================================================================================================#\n",
    "def plot_type_2(figsize=(12,12)):\n",
    "    plt.figure()\n",
    "    for i in [0,1,2,3,4,5,6,7,8,9]:\n",
    "        plt.subplot(10, 1, i+1)\n",
    "        #sns.kdeplot(x[i], bw = 0.01 , color=\"darkred\")\n",
    "        #sns.distplot(x[i], hist = 1, bins=np.arange(0.5,10.5,0.333), rug=False, kde=True, kde_kws={'bw':0.1},hist_kws=dict(ec=\"k\"), color=col_list[i])\n",
    "        sns.distplot(x[i], hist = 1, bins=40, rug=False, kde=True, kde_kws={'bw':0.02},hist_kws=dict(ec=\"k\"), color=col_list[i])\n",
    "        plt.xlim((0,1))\n",
    "    plt.show()\n",
    "    return\n",
    "#====================================================================================================#\n",
    "plot_type_1()\n",
    "#plot_type_2()"
   ]
  },
  {
   "cell_type": "code",
   "execution_count": 47,
   "id": "734c7132",
   "metadata": {},
   "outputs": [
    {
     "name": "stdout",
     "output_type": "stream",
     "text": [
      "R_Prediction =  0.703\n"
     ]
    }
   ],
   "source": [
    "# Compute Spearman's R\n",
    "print (\"R_Prediction = \", round(corrcoef(y_pred,y_test)[1,0],3))"
   ]
  },
  {
   "cell_type": "code",
   "execution_count": 48,
   "id": "8d0a6868",
   "metadata": {},
   "outputs": [
    {
     "data": {
      "image/png": "[encoded data removed]",
      "text/plain": [
       "<Figure size 432x345.6 with 2 Axes>"
      ]
     },
     "metadata": {
      "needs_background": "light"
     },
     "output_type": "display_data"
    }
   ],
   "source": [
    "y_pred_list = y_pred\n",
    "cm=confusion_matrix(y_test, y_pred_list)\n",
    "confusion_matrix_df = pd.DataFrame(cm).rename(columns=idx2class, index=idx2class)\n",
    "#--------------------------------------------------#\n",
    "fig = plt.figure(figsize=(6,4.8))\n",
    "ax = sns.heatmap(confusion_matrix_df, center=550, annot=True, fmt=\"d\")\n",
    "#sns.heatmap(confusion_matrix_df, cmap=\"Reds\", center=550, annot=True, fmt=\"d\")\n",
    "plt.show()\n",
    "#--------------------------------------------------#\n",
    "fig.savefig(results_sub_folder / (output_file_header + \"_HeatMapCM_\") , dpi=1000 ) \n"
   ]
  },
  {
   "cell_type": "code",
   "execution_count": 49,
   "id": "9c84a79e",
   "metadata": {},
   "outputs": [
    {
     "name": "stdout",
     "output_type": "stream",
     "text": [
      "              precision    recall  f1-score   support\n",
      "\n",
      "           0       0.54      0.69      0.61       549\n",
      "           1       0.72      0.75      0.74      1816\n",
      "           2       0.56      0.54      0.55      1118\n",
      "           3       0.57      0.49      0.52       710\n",
      "           4       0.47      0.43      0.45       448\n",
      "           5       0.46      0.43      0.44       331\n",
      "           6       0.55      0.48      0.51       232\n",
      "           7       0.45      0.39      0.42       132\n",
      "           8       0.45      0.39      0.42        76\n",
      "           9       0.47      0.53      0.50        43\n",
      "\n",
      "    accuracy                           0.60      5455\n",
      "   macro avg       0.52      0.51      0.52      5455\n",
      "weighted avg       0.59      0.60      0.59      5455\n",
      "\n"
     ]
    }
   ],
   "source": [
    "print(classification_report(y_test, y_pred_list)) "
   ]
  },
  {
   "cell_type": "markdown",
   "id": "d99b51cb",
   "metadata": {},
   "source": [
    "### 10.3.12 Visualize how Similarity Score have Characterized Reaction Distances (baseline)\n",
    "\n",
    "Below shows similarity scores poor characterization of reaction distances."
   ]
  },
  {
   "cell_type": "code",
   "execution_count": 50,
   "id": "33d6f6ec",
   "metadata": {},
   "outputs": [
    {
     "name": "stderr",
     "output_type": "stream",
     "text": [
      " 18%|█████████████▌                                                            | 19999/109122 [00:48<03:37, 409.26it/s]\n",
      "100%|█████████████████████████████████████████████████████████████████████████| 5000/5000 [00:00<00:00, 1665728.36it/s]\n"
     ]
    }
   ],
   "source": [
    "#====================================================================================================#\n",
    "pickle_in1=open(saving_folder  / \"Step07_paired_cmpds_list\",\"rb\")\n",
    "paired_smiles_list=pickle.load(pickle_in1)\n",
    "pickle_in1.close()\n",
    "pickle_in2=open(saving_folder  / \"Step07_all_pairs_list\",\"rb\")\n",
    "all_pairs_list=pickle.load(pickle_in2)\n",
    "pickle_in2.close()\n",
    "#====================================================================================================#\n",
    "pickle_in1=open(saving_folder  / (\"Step08_all_cmpds_\"+ECFP_encodings),\"rb\")\n",
    "all_smiles=pickle.load(pickle_in1)\n",
    "pickle_in1.close()\n",
    "pickle_in2=open(saving_folder  / (\"Step08_all_ecfps_\"+ECFP_encodings),\"rb\")\n",
    "all_ecfps=pickle.load(pickle_in2)\n",
    "pickle_in2.close()\n",
    "pickle_in3=open(saving_folder  / (\"Step08_all_cmpds_ecfps_dict_\"+ECFP_encodings),\"rb\")\n",
    "all_smiles_ecfps_dict=pickle.load(pickle_in3)\n",
    "pickle_in3.close()\n",
    "#====================================================================================================#\n",
    "shuffle(paired_smiles_list)\n",
    "#====================================================================================================#\n",
    "dis_list=[]\n",
    "sim_list=[]\n",
    "sim_inferred_list=[]\n",
    "dis_inferred_list=[]\n",
    "count_x=0\n",
    "for one_pair_info in tqdm(paired_smiles_list): #[   [ { fr{}, fr{} },d ],   [ { fr{}, fr{} },d ],  [{{},{}},d], ....  ]\n",
    "    count_x+=1\n",
    "    #print count_x\n",
    "    if count_x>=20000:\n",
    "        break\n",
    "    if len(list(list(one_pair_info[0])))==2:\n",
    "        score=maxsimscore(list(list(one_pair_info[0])[0]),list(list(one_pair_info[0])[1]),\"MACCS\")\n",
    "\n",
    "        distance = one_pair_info[1]\n",
    "        dis_list.append(distance)\n",
    "\n",
    "        sim_inferred = 1/(distance+1.)\n",
    "        sim_inferred_list.append(sim_inferred)\n",
    "\n",
    "        similarity=score\n",
    "        sim_list.append(similarity)\n",
    "\n",
    "        dis_inferred = round(1./(similarity+0.1) - 1) + 1\n",
    "        dis_inferred_list.append(dis_inferred)\n",
    "#====================================================================================================#\n",
    "sim_dist_1=[]\n",
    "sim_dist_2=[]\n",
    "sim_dist_3=[]\n",
    "sim_dist_4=[]\n",
    "sim_dist_5=[]\n",
    "sim_dist_6=[]\n",
    "sim_dist_7=[]\n",
    "sim_dist_8=[]\n",
    "sim_dist_9=[]\n",
    "sim_dist_10=[]\n",
    "#====================================================================================================#\n",
    "for i in tqdm(range(5000)):\n",
    "    distance = dis_list[i]\n",
    "    prediction = sim_list[i]\n",
    "    if distance==1:\n",
    "        sim_dist_1.append(prediction)\n",
    "    if distance==2:\n",
    "        sim_dist_2.append(prediction)\n",
    "    if distance==3:\n",
    "        sim_dist_3.append(prediction)\n",
    "    if distance==4:\n",
    "        sim_dist_4.append(prediction)\n",
    "    if distance==5:\n",
    "        sim_dist_5.append(prediction)\n",
    "    if distance==6:\n",
    "        sim_dist_6.append(prediction)\n",
    "    if distance==7:\n",
    "        sim_dist_7.append(prediction)\n",
    "    if distance==8:\n",
    "        sim_dist_8.append(prediction)\n",
    "    if distance==9:\n",
    "        sim_dist_9.append(prediction)\n",
    "    if distance==10:\n",
    "        sim_dist_10.append(prediction)\n",
    "#====================================================================================================#\n",
    "x=[]\n",
    "x.append(np.array(sim_dist_1))\n",
    "x.append(np.array(sim_dist_2))\n",
    "x.append(np.array(sim_dist_3))\n",
    "x.append(np.array(sim_dist_4))\n",
    "x.append(np.array(sim_dist_5))\n",
    "x.append(np.array(sim_dist_6))\n",
    "x.append(np.array(sim_dist_7))\n",
    "x.append(np.array(sim_dist_8))  \n",
    "x.append(np.array(sim_dist_9)) \n",
    "x.append(np.array(sim_dist_10)) \n"
   ]
  },
  {
   "cell_type": "code",
   "execution_count": 51,
   "id": "8ee69501",
   "metadata": {
    "scrolled": false
   },
   "outputs": [
    {
     "data": {
      "image/png": "[encoded data removed]",
      "text/plain": [
       "<Figure size 720x720 with 10 Axes>"
      ]
     },
     "metadata": {
      "needs_background": "light"
     },
     "output_type": "display_data"
    }
   ],
   "source": [
    "import warnings\n",
    "warnings.filterwarnings('ignore')\n",
    "#====================================================================================================#\n",
    "col_list=[\"red\",\"orange\",\"goldenrod\",\"darkgreen\",\"cyan\",\"darkblue\",\"purple\",\"grey\", \"saddlebrown\", \"pink\"]\n",
    "#====================================================================================================#\n",
    "def plot_type_1():\n",
    "    font = {'family' : \"Times New Roman\"}\n",
    "    plt.rc('font', **font)\n",
    "    g_all = plt.figure(figsize=(10,10))\n",
    "    for i in [0,1,2,3,4,5,6,7,8,9]:\n",
    "        g = plt.subplot(10, 1, i+1)\n",
    "        #sns.kdeplot(x[i], bw = 0.01 , color=\"darkred\")\n",
    "        #sns.distplot(x[i], hist = 1, bins=np.arange(0.5,10.5,0.333), rug=False, kde=True, kde_kws={'bw':0.1},hist_kws=dict(ec=\"k\"), color=col_list[i])\n",
    "        sns.distplot(x[i], hist = 1, bins=40, rug=False, kde=True, kde_kws={'bw':0.05},hist_kws=dict(ec=\"k\"), color=col_list[i])\n",
    "        #--------------------------------------------------#\n",
    "        g.set_yticks([0,1,2,3])\n",
    "        g.set(yticklabels=[0,1,2,3])\n",
    "        g.set(ylabel=None)\n",
    "        g.tick_params(axis=\"y\", labelsize=12)\n",
    "        g.set_ylim((0,4))\n",
    "        #--------------------------------------------------#\n",
    "        g.set_xticks([])\n",
    "        g.set(xlabel=None)\n",
    "        g.set_xlim((0,1))\n",
    "        g.set_xticks([0,0.2,0.4,0.6,0.8,1]) if i == 9 else 0\n",
    "        g.set(xticklabels=[0,0.2,0.4,0.6,0.8,1]) if i == 9 else 0\n",
    "        g.tick_params(axis=\"x\", labelsize=12)\n",
    "        g.set_title(\"Stacked Distribution Plot (Similarity Scores)\\n\", fontsize=18) if i == 0 else 0\n",
    "        g.set_ylabel(\"Probability Distribution Function (Density)\", fontsize=18) if i == 4 else 0\n",
    "        g.set_xlabel(\"Similarity Scores\", fontsize=18) if i == 9 else 0\n",
    "        \n",
    "    plt.show()\n",
    "    g_all.savefig(results_sub_folder / (output_file_header + \"_StackedDistn_SimilarityScores\") , dpi=1000 ) \n",
    "\n",
    "    return\n",
    "#====================================================================================================#\n",
    "def plot_type_2(figsize=(12,12)):\n",
    "    plt.figure()\n",
    "    for i in [0,1,2,3,4,5,6,7,8,9]:\n",
    "        plt.subplot(10, 1, i+1)\n",
    "        #sns.kdeplot(x[i], bw = 0.01 , color=\"darkred\")\n",
    "        #sns.distplot(x[i], hist = 1, bins=np.arange(0.5,10.5,0.333), rug=False, kde=True, kde_kws={'bw':0.1},hist_kws=dict(ec=\"k\"), color=col_list[i])\n",
    "        sns.distplot(x[i], hist = 1, bins=40, rug=False, kde=True, kde_kws={'bw':0.02},hist_kws=dict(ec=\"k\"), color=col_list[i])\n",
    "        plt.xlim((0,1))\n",
    "    plt.show()\n",
    "    return\n",
    "#====================================================================================================#\n",
    "plot_type_1()\n",
    "#plot_type_2()\n"
   ]
  },
  {
   "cell_type": "markdown",
   "id": "babeb964",
   "metadata": {},
   "source": [
    "### Calculate Inferred Reaction Distances based on Similarity Scores\n",
    "Similarities and distances are oftern converted to one another using the equation, \n",
    "![\\Large similarity=\\frac{1}{distance + 1}](https://latex.codecogs.com/svg.latex?\\Large&space;similarity(\\tau)=\\frac{1}{distance(d)+1}) \n",
    "\n",
    "This formula is used to compute the correlation between similarity and distance in order to check similarity's characterization of reaction distance.\n"
   ]
  },
  {
   "cell_type": "markdown",
   "id": "bab358fa",
   "metadata": {},
   "source": [
    "Compute spearman's R for Distances (Real Distances vs. Inferred Distances) and Similarities (Similarity Scores vs. Inferred Similarities).\n"
   ]
  },
  {
   "cell_type": "code",
   "execution_count": 52,
   "id": "d6b3ba1b",
   "metadata": {},
   "outputs": [
    {
     "name": "stdout",
     "output_type": "stream",
     "text": [
      "R_Similarity =  0.34\n",
      "R_Distance =  0.22\n"
     ]
    }
   ],
   "source": [
    "# Compute Spearman's R\n",
    "print (\"R_Similarity = \", round(corrcoef(sim_list,sim_inferred_list)[1,0],3))\n",
    "print (\"R_Distance = \", round(corrcoef(dis_list,dis_inferred_list)[1,0],3))"
   ]
  },
  {
   "cell_type": "code",
   "execution_count": 53,
   "id": "d332f56d",
   "metadata": {},
   "outputs": [
    {
     "data": {
      "image/png": "[encoded data removed]",
      "text/plain": [
       "<Figure size 432x345.6 with 2 Axes>"
      ]
     },
     "metadata": {
      "needs_background": "light"
     },
     "output_type": "display_data"
    }
   ],
   "source": [
    "# Compute Spearman's R\n",
    "cm=confusion_matrix(dis_list,dis_inferred_list)\n",
    "confusion_matrix_df = pd.DataFrame(cm)\n",
    "#--------------------------------------------------#\n",
    "fig = plt.figure(figsize=(6,4.8))\n",
    "#g = sns.heatmap(confusion_matrix_df, cmap=\"Reds\", center=550, annot=True, fmt=\"d\")\n",
    "g = sns.heatmap(confusion_matrix_df, center=1500, annot=True, fmt=\"d\")\n",
    "g.set(xlabel=\"\")\n",
    "plt.show()\n",
    "#--------------------------------------------------#\n",
    "fig.savefig(results_sub_folder / (output_file_header + \"_HeatMapCM_Similarity\") , dpi=1000 ) "
   ]
  },
  {
   "cell_type": "code",
   "execution_count": 54,
   "id": "3e8d3a97",
   "metadata": {},
   "outputs": [
    {
     "name": "stdout",
     "output_type": "stream",
     "text": [
      "              precision    recall  f1-score   support\n",
      "\n",
      "           1       0.18      0.77      0.29      2045\n",
      "           2       0.31      0.28      0.29      6634\n",
      "           3       0.25      0.17      0.20      4086\n",
      "           4       0.16      0.08      0.11      2579\n",
      "           5       0.13      0.04      0.06      1659\n",
      "           6       0.12      0.03      0.05      1235\n",
      "           7       0.05      0.01      0.01       853\n",
      "           8       0.01      0.00      0.00       470\n",
      "           9       0.00      0.00      0.00       259\n",
      "          10       0.00      0.00      0.00       169\n",
      "\n",
      "    accuracy                           0.22     19989\n",
      "   macro avg       0.12      0.14      0.10     19989\n",
      "weighted avg       0.21      0.22      0.19     19989\n",
      "\n"
     ]
    }
   ],
   "source": [
    "print(classification_report(dis_list, dis_inferred_list)) "
   ]
  }
 ],
 "metadata": {
  "kernelspec": {
   "display_name": "Python 3 (ipykernel)",
   "language": "python",
   "name": "python3"
  },
  "language_info": {
   "codemirror_mode": {
    "name": "ipython",
    "version": 3
   },
   "file_extension": ".py",
   "mimetype": "text/x-python",
   "name": "python",
   "nbconvert_exporter": "python",
   "pygments_lexer": "ipython3",
   "version": "3.7.11"
  }
 },
 "nbformat": 4,
 "nbformat_minor": 5
}
